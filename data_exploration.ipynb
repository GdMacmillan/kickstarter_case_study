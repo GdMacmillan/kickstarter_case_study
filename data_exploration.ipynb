{
 "cells": [
  {
   "cell_type": "code",
   "execution_count": 83,
   "metadata": {
    "collapsed": false
   },
   "outputs": [],
   "source": [
    "# standard imports\n",
    "import datetime\n",
    "import os\n",
    "import sys\n",
    "\n",
    "\n",
    "from subprocess import check_output\n",
    "\n",
    "# third party imports\n",
    "import matplotlib.pyplot as plt # MATLAB like plotting framework\n",
    "import numpy as np # linear algebra\n",
    "import pandas as pd # Data ETL, csv file I/O\n",
    "import seaborn as sns\n",
    "\n",
    "# src directory imports\n",
    "module_path = os.path.abspath(os.path.join('src'))\n",
    "if module_path not in sys.path:\n",
    "    sys.path.append(module_path)\n",
    "\n",
    "from src.helper_functions import load_dataset, ttest_by, kstest_by, CleanTextTransformer\n",
    "\n",
    "%matplotlib inline"
   ]
  },
  {
   "cell_type": "markdown",
   "metadata": {},
   "source": [
    "#### Check files in data folder"
   ]
  },
  {
   "cell_type": "code",
   "execution_count": 2,
   "metadata": {
    "collapsed": false
   },
   "outputs": [
    {
     "name": "stdout",
     "output_type": "stream",
     "text": [
      "Kickstarter001.csv\n",
      "Kickstarter002.csv\n",
      "Kickstarter003.csv\n",
      "Kickstarter004.csv\n",
      "Kickstarter005.csv\n",
      "Kickstarter006.csv\n",
      "Kickstarter007.csv\n",
      "Kickstarter008.csv\n",
      "Kickstarter009.csv\n",
      "Kickstarter010.csv\n",
      "Kickstarter011.csv\n",
      "Kickstarter012.csv\n",
      "Kickstarter013.csv\n",
      "Kickstarter014.csv\n",
      "Kickstarter015.csv\n",
      "Kickstarter016.csv\n",
      "Kickstarter017.csv\n",
      "Kickstarter018.csv\n",
      "Kickstarter019.csv\n",
      "Kickstarter020.csv\n",
      "Kickstarter021.csv\n",
      "Kickstarter022.csv\n",
      "Kickstarter023.csv\n",
      "Kickstarter024.csv\n",
      "Kickstarter025.csv\n",
      "Kickstarter026.csv\n",
      "Kickstarter027.csv\n",
      "Kickstarter028.csv\n",
      "Kickstarter029.csv\n",
      "Kickstarter030.csv\n",
      "Kickstarter031.csv\n",
      "Kickstarter032.csv\n",
      "Kickstarter033.csv\n",
      "Kickstarter034.csv\n",
      "Kickstarter035.csv\n",
      "Kickstarter036.csv\n",
      "Kickstarter037.csv\n",
      "Kickstarter038.csv\n",
      "Kickstarter039.csv\n",
      "Kickstarter040.csv\n",
      "Kickstarter041.csv\n",
      "Kickstarter042.csv\n",
      "\n"
     ]
    }
   ],
   "source": [
    "print(check_output([\"ls\", \"./data\"]).decode(\"utf-8\"))"
   ]
  },
  {
   "cell_type": "markdown",
   "metadata": {},
   "source": [
    "#### Load dataframe"
   ]
  },
  {
   "cell_type": "code",
   "execution_count": 3,
   "metadata": {
    "collapsed": false
   },
   "outputs": [],
   "source": [
    "df = load_dataset()"
   ]
  },
  {
   "cell_type": "code",
   "execution_count": 4,
   "metadata": {
    "collapsed": false
   },
   "outputs": [
    {
     "data": {
      "text/html": [
       "<div>\n",
       "<table border=\"1\" class=\"dataframe\">\n",
       "  <thead>\n",
       "    <tr style=\"text-align: right;\">\n",
       "      <th></th>\n",
       "      <th>id</th>\n",
       "      <th>photo</th>\n",
       "      <th>name</th>\n",
       "      <th>blurb</th>\n",
       "      <th>goal</th>\n",
       "      <th>pledged</th>\n",
       "      <th>state</th>\n",
       "      <th>slug</th>\n",
       "      <th>disable_communication</th>\n",
       "      <th>country</th>\n",
       "      <th>...</th>\n",
       "      <th>location</th>\n",
       "      <th>category</th>\n",
       "      <th>profile</th>\n",
       "      <th>spotlight</th>\n",
       "      <th>urls</th>\n",
       "      <th>source_url</th>\n",
       "      <th>friends</th>\n",
       "      <th>is_starred</th>\n",
       "      <th>is_backing</th>\n",
       "      <th>permissions</th>\n",
       "    </tr>\n",
       "  </thead>\n",
       "  <tbody>\n",
       "    <tr>\n",
       "      <th>0</th>\n",
       "      <td>2081133073</td>\n",
       "      <td>{\"small\":\"https://ksr-ugc.imgix.net/assets/011...</td>\n",
       "      <td>Dracula: The Kisses... Help Scary Little Girls...</td>\n",
       "      <td>Dracula: The Kisses… is an all-female producti...</td>\n",
       "      <td>8000.0</td>\n",
       "      <td>2507.0</td>\n",
       "      <td>failed</td>\n",
       "      <td>dracula-the-kisses-help-scary-little-girls-fly...</td>\n",
       "      <td>False</td>\n",
       "      <td>GB</td>\n",
       "      <td>...</td>\n",
       "      <td>{\"country\":\"GB\",\"urls\":{\"web\":{\"discover\":\"htt...</td>\n",
       "      <td>{'urls': {'web': {'discover': 'http://www.kick...</td>\n",
       "      <td>{'background_image_opacity': 0.8, 'should_show...</td>\n",
       "      <td>False</td>\n",
       "      <td>{\"web\":{\"project\":\"https://www.kickstarter.com...</td>\n",
       "      <td>https://www.kickstarter.com/discover/categorie...</td>\n",
       "      <td>NaN</td>\n",
       "      <td>NaN</td>\n",
       "      <td>NaN</td>\n",
       "      <td>NaN</td>\n",
       "    </tr>\n",
       "    <tr>\n",
       "      <th>1</th>\n",
       "      <td>262077000</td>\n",
       "      <td>{\"small\":\"https://ksr-ugc.imgix.net/assets/012...</td>\n",
       "      <td>Historial Women</td>\n",
       "      <td>The Power of Women and Their Contributions to ...</td>\n",
       "      <td>2000.0</td>\n",
       "      <td>19.0</td>\n",
       "      <td>failed</td>\n",
       "      <td>historial-women</td>\n",
       "      <td>False</td>\n",
       "      <td>US</td>\n",
       "      <td>...</td>\n",
       "      <td>{\"country\":\"US\",\"urls\":{\"web\":{\"discover\":\"htt...</td>\n",
       "      <td>{'urls': {'web': {'discover': 'http://www.kick...</td>\n",
       "      <td>{'background_image_opacity': 0.8, 'should_show...</td>\n",
       "      <td>False</td>\n",
       "      <td>{\"web\":{\"project\":\"https://www.kickstarter.com...</td>\n",
       "      <td>https://www.kickstarter.com/discover/categorie...</td>\n",
       "      <td>NaN</td>\n",
       "      <td>NaN</td>\n",
       "      <td>NaN</td>\n",
       "      <td>NaN</td>\n",
       "    </tr>\n",
       "    <tr>\n",
       "      <th>2</th>\n",
       "      <td>1541121253</td>\n",
       "      <td>{\"small\":\"https://ksr-ugc.imgix.net/assets/011...</td>\n",
       "      <td>The Sequel: a comedy with puppets</td>\n",
       "      <td>Our play The Sequel has a 2 week run at The Ca...</td>\n",
       "      <td>500.0</td>\n",
       "      <td>1.0</td>\n",
       "      <td>failed</td>\n",
       "      <td>the-sequel-a-comedy-with-puppets</td>\n",
       "      <td>False</td>\n",
       "      <td>GB</td>\n",
       "      <td>...</td>\n",
       "      <td>{\"country\":\"GB\",\"urls\":{\"web\":{\"discover\":\"htt...</td>\n",
       "      <td>{'urls': {'web': {'discover': 'http://www.kick...</td>\n",
       "      <td>{'background_image_opacity': 0.8, 'should_show...</td>\n",
       "      <td>False</td>\n",
       "      <td>{\"web\":{\"project\":\"https://www.kickstarter.com...</td>\n",
       "      <td>https://www.kickstarter.com/discover/categorie...</td>\n",
       "      <td>NaN</td>\n",
       "      <td>NaN</td>\n",
       "      <td>NaN</td>\n",
       "      <td>NaN</td>\n",
       "    </tr>\n",
       "    <tr>\n",
       "      <th>3</th>\n",
       "      <td>489010822</td>\n",
       "      <td>{\"small\":\"https://ksr-ugc.imgix.net/assets/012...</td>\n",
       "      <td>Young blind actors have a life-changing opport...</td>\n",
       "      <td>Four blind youth from Los Angeles based Theatr...</td>\n",
       "      <td>15000.0</td>\n",
       "      <td>2095.0</td>\n",
       "      <td>failed</td>\n",
       "      <td>young-blind-actors-have-a-life-changing-opport...</td>\n",
       "      <td>False</td>\n",
       "      <td>US</td>\n",
       "      <td>...</td>\n",
       "      <td>{\"country\":\"GB\",\"urls\":{\"web\":{\"discover\":\"htt...</td>\n",
       "      <td>{'urls': {'web': {'discover': 'http://www.kick...</td>\n",
       "      <td>{'background_image_opacity': 0.8, 'should_show...</td>\n",
       "      <td>False</td>\n",
       "      <td>{\"web\":{\"project\":\"https://www.kickstarter.com...</td>\n",
       "      <td>https://www.kickstarter.com/discover/categorie...</td>\n",
       "      <td>NaN</td>\n",
       "      <td>NaN</td>\n",
       "      <td>NaN</td>\n",
       "      <td>NaN</td>\n",
       "    </tr>\n",
       "    <tr>\n",
       "      <th>4</th>\n",
       "      <td>702028718</td>\n",
       "      <td>{\"small\":\"https://ksr-ugc.imgix.net/assets/011...</td>\n",
       "      <td>Drama School Fund</td>\n",
       "      <td>Raising money to send a young Actress to Drama...</td>\n",
       "      <td>10600.0</td>\n",
       "      <td>11.0</td>\n",
       "      <td>failed</td>\n",
       "      <td>drama-school-fund</td>\n",
       "      <td>False</td>\n",
       "      <td>GB</td>\n",
       "      <td>...</td>\n",
       "      <td>{\"country\":\"GB\",\"urls\":{\"web\":{\"discover\":\"htt...</td>\n",
       "      <td>{'urls': {'web': {'discover': 'http://www.kick...</td>\n",
       "      <td>{'background_image_opacity': 0.8, 'should_show...</td>\n",
       "      <td>False</td>\n",
       "      <td>{\"web\":{\"project\":\"https://www.kickstarter.com...</td>\n",
       "      <td>https://www.kickstarter.com/discover/categorie...</td>\n",
       "      <td>NaN</td>\n",
       "      <td>NaN</td>\n",
       "      <td>NaN</td>\n",
       "      <td>NaN</td>\n",
       "    </tr>\n",
       "  </tbody>\n",
       "</table>\n",
       "<p>5 rows × 32 columns</p>\n",
       "</div>"
      ],
      "text/plain": [
       "           id                                              photo  \\\n",
       "0  2081133073  {\"small\":\"https://ksr-ugc.imgix.net/assets/011...   \n",
       "1   262077000  {\"small\":\"https://ksr-ugc.imgix.net/assets/012...   \n",
       "2  1541121253  {\"small\":\"https://ksr-ugc.imgix.net/assets/011...   \n",
       "3   489010822  {\"small\":\"https://ksr-ugc.imgix.net/assets/012...   \n",
       "4   702028718  {\"small\":\"https://ksr-ugc.imgix.net/assets/011...   \n",
       "\n",
       "                                                name  \\\n",
       "0  Dracula: The Kisses... Help Scary Little Girls...   \n",
       "1                                    Historial Women   \n",
       "2                  The Sequel: a comedy with puppets   \n",
       "3  Young blind actors have a life-changing opport...   \n",
       "4                                  Drama School Fund   \n",
       "\n",
       "                                               blurb     goal  pledged  \\\n",
       "0  Dracula: The Kisses… is an all-female producti...   8000.0   2507.0   \n",
       "1  The Power of Women and Their Contributions to ...   2000.0     19.0   \n",
       "2  Our play The Sequel has a 2 week run at The Ca...    500.0      1.0   \n",
       "3  Four blind youth from Los Angeles based Theatr...  15000.0   2095.0   \n",
       "4  Raising money to send a young Actress to Drama...  10600.0     11.0   \n",
       "\n",
       "    state                                               slug  \\\n",
       "0  failed  dracula-the-kisses-help-scary-little-girls-fly...   \n",
       "1  failed                                    historial-women   \n",
       "2  failed                   the-sequel-a-comedy-with-puppets   \n",
       "3  failed  young-blind-actors-have-a-life-changing-opport...   \n",
       "4  failed                                  drama-school-fund   \n",
       "\n",
       "  disable_communication country     ...       \\\n",
       "0                 False      GB     ...        \n",
       "1                 False      US     ...        \n",
       "2                 False      GB     ...        \n",
       "3                 False      US     ...        \n",
       "4                 False      GB     ...        \n",
       "\n",
       "                                            location  \\\n",
       "0  {\"country\":\"GB\",\"urls\":{\"web\":{\"discover\":\"htt...   \n",
       "1  {\"country\":\"US\",\"urls\":{\"web\":{\"discover\":\"htt...   \n",
       "2  {\"country\":\"GB\",\"urls\":{\"web\":{\"discover\":\"htt...   \n",
       "3  {\"country\":\"GB\",\"urls\":{\"web\":{\"discover\":\"htt...   \n",
       "4  {\"country\":\"GB\",\"urls\":{\"web\":{\"discover\":\"htt...   \n",
       "\n",
       "                                            category  \\\n",
       "0  {'urls': {'web': {'discover': 'http://www.kick...   \n",
       "1  {'urls': {'web': {'discover': 'http://www.kick...   \n",
       "2  {'urls': {'web': {'discover': 'http://www.kick...   \n",
       "3  {'urls': {'web': {'discover': 'http://www.kick...   \n",
       "4  {'urls': {'web': {'discover': 'http://www.kick...   \n",
       "\n",
       "                                             profile  spotlight  \\\n",
       "0  {'background_image_opacity': 0.8, 'should_show...      False   \n",
       "1  {'background_image_opacity': 0.8, 'should_show...      False   \n",
       "2  {'background_image_opacity': 0.8, 'should_show...      False   \n",
       "3  {'background_image_opacity': 0.8, 'should_show...      False   \n",
       "4  {'background_image_opacity': 0.8, 'should_show...      False   \n",
       "\n",
       "                                                urls  \\\n",
       "0  {\"web\":{\"project\":\"https://www.kickstarter.com...   \n",
       "1  {\"web\":{\"project\":\"https://www.kickstarter.com...   \n",
       "2  {\"web\":{\"project\":\"https://www.kickstarter.com...   \n",
       "3  {\"web\":{\"project\":\"https://www.kickstarter.com...   \n",
       "4  {\"web\":{\"project\":\"https://www.kickstarter.com...   \n",
       "\n",
       "                                          source_url  friends is_starred  \\\n",
       "0  https://www.kickstarter.com/discover/categorie...      NaN        NaN   \n",
       "1  https://www.kickstarter.com/discover/categorie...      NaN        NaN   \n",
       "2  https://www.kickstarter.com/discover/categorie...      NaN        NaN   \n",
       "3  https://www.kickstarter.com/discover/categorie...      NaN        NaN   \n",
       "4  https://www.kickstarter.com/discover/categorie...      NaN        NaN   \n",
       "\n",
       "   is_backing  permissions  \n",
       "0         NaN          NaN  \n",
       "1         NaN          NaN  \n",
       "2         NaN          NaN  \n",
       "3         NaN          NaN  \n",
       "4         NaN          NaN  \n",
       "\n",
       "[5 rows x 32 columns]"
      ]
     },
     "execution_count": 4,
     "metadata": {},
     "output_type": "execute_result"
    }
   ],
   "source": [
    "df.head()"
   ]
  },
  {
   "cell_type": "code",
   "execution_count": 5,
   "metadata": {
    "collapsed": false
   },
   "outputs": [
    {
     "name": "stdout",
     "output_type": "stream",
     "text": [
      "<class 'pandas.core.frame.DataFrame'>\n",
      "RangeIndex: 172833 entries, 0 to 172832\n",
      "Data columns (total 32 columns):\n",
      "id                        172833 non-null int64\n",
      "photo                     172833 non-null object\n",
      "name                      172832 non-null object\n",
      "blurb                     172821 non-null object\n",
      "goal                      172833 non-null float64\n",
      "pledged                   172833 non-null float64\n",
      "state                     172833 non-null object\n",
      "slug                      172833 non-null object\n",
      "disable_communication     172833 non-null bool\n",
      "country                   172833 non-null object\n",
      "currency                  172833 non-null object\n",
      "currency_symbol           172833 non-null object\n",
      "currency_trailing_code    172833 non-null bool\n",
      "deadline                  172833 non-null int64\n",
      "state_changed_at          172833 non-null int64\n",
      "created_at                172833 non-null int64\n",
      "launched_at               172833 non-null int64\n",
      "staff_pick                172833 non-null bool\n",
      "backers_count             172833 non-null int64\n",
      "static_usd_rate           172833 non-null float64\n",
      "usd_pledged               172833 non-null float64\n",
      "creator                   172833 non-null object\n",
      "location                  172204 non-null object\n",
      "category                  172833 non-null object\n",
      "profile                   172833 non-null object\n",
      "spotlight                 172833 non-null bool\n",
      "urls                      172833 non-null object\n",
      "source_url                172833 non-null object\n",
      "friends                   180 non-null object\n",
      "is_starred                180 non-null object\n",
      "is_backing                180 non-null object\n",
      "permissions               180 non-null object\n",
      "dtypes: bool(4), float64(4), int64(6), object(18)\n",
      "memory usage: 37.6+ MB\n"
     ]
    }
   ],
   "source": [
    "df.info()"
   ]
  },
  {
   "cell_type": "markdown",
   "metadata": {},
   "source": [
    "#### Quick data overview:\n",
    "\n",
    "This dataset has 172,833 campaigns"
   ]
  },
  {
   "cell_type": "markdown",
   "metadata": {},
   "source": [
    "## Data hygeine and exploration"
   ]
  },
  {
   "cell_type": "code",
   "execution_count": 6,
   "metadata": {
    "collapsed": false
   },
   "outputs": [],
   "source": [
    "df['launched_at'] = pd.to_datetime(df['launched_at'],unit='s')\n",
    "df['state_changed_at'] = pd.to_datetime(df['state_changed_at'],unit='s')\n",
    "df['created_at'] = pd.to_datetime(df['created_at'],unit='s')\n",
    "df['deadline'] = pd.to_datetime(df['deadline'],unit='s')"
   ]
  },
  {
   "cell_type": "code",
   "execution_count": 7,
   "metadata": {
    "collapsed": false
   },
   "outputs": [
    {
     "data": {
      "text/plain": [
       "count                  172833\n",
       "unique                 172666\n",
       "top       2015-11-17 22:07:49\n",
       "freq                        2\n",
       "first     2009-04-24 19:52:03\n",
       "last      2017-03-16 00:23:26\n",
       "Name: launched_at, dtype: object"
      ]
     },
     "execution_count": 7,
     "metadata": {},
     "output_type": "execute_result"
    }
   ],
   "source": [
    "df.launched_at.describe()"
   ]
  },
  {
   "cell_type": "code",
   "execution_count": 8,
   "metadata": {
    "collapsed": true
   },
   "outputs": [],
   "source": [
    "df['launched_at_hr'] = df['launched_at'].apply(lambda x: x.hour) + 1\n",
    "df['launched_at_dow'] = df['launched_at'].apply(lambda x: x.dayofweek + 1) #Monday=1, Sunday=7\n",
    "df['launched_at_mo'] = df['launched_at'].apply(lambda x: x.month)\n",
    "df['launched_at_yr'] = df['launched_at'].apply(lambda x: x.year)"
   ]
  },
  {
   "cell_type": "code",
   "execution_count": 9,
   "metadata": {
    "collapsed": false
   },
   "outputs": [],
   "source": [
    "df['deadline_hr'] = df['deadline'].apply(lambda x: x.hour) + 1\n",
    "df['deadline_dow'] = df['deadline'].apply(lambda x: x.dayofweek + 1) #Monday=1, Sunday=7\n",
    "df['deadline_mo'] = df['deadline'].apply(lambda x: x.month)\n",
    "df['deadline_yr'] = df['deadline'].apply(lambda x: x.year)"
   ]
  },
  {
   "cell_type": "code",
   "execution_count": 10,
   "metadata": {
    "collapsed": true
   },
   "outputs": [],
   "source": [
    "df['created_at_hr'] = df['created_at'].apply(lambda x: x.hour) + 1\n",
    "df['created_at_dow'] = df['created_at'].apply(lambda x: x.dayofweek + 1) #Monday=1, Sunday=7\n",
    "df['created_at_mo'] = df['created_at'].apply(lambda x: x.month)\n",
    "df['created_at_yr'] = df['created_at'].apply(lambda x: x.year)"
   ]
  },
  {
   "cell_type": "markdown",
   "metadata": {},
   "source": [
    "Simple quality check: Let's check to make sure no launch dates came after before deadline dates"
   ]
  },
  {
   "cell_type": "code",
   "execution_count": 11,
   "metadata": {
    "collapsed": false
   },
   "outputs": [
    {
     "data": {
      "text/plain": [
       "False"
      ]
     },
     "execution_count": 11,
     "metadata": {},
     "output_type": "execute_result"
    }
   ],
   "source": [
    "np.any(df.deadline < df.launched_at)"
   ]
  },
  {
   "cell_type": "code",
   "execution_count": 12,
   "metadata": {
    "collapsed": false
   },
   "outputs": [
    {
     "data": {
      "text/plain": [
       "2015    46280\n",
       "2014    36704\n",
       "2016    34242\n",
       "2013    17191\n",
       "2012    16267\n",
       "2011     9797\n",
       "2017     7813\n",
       "2010     3959\n",
       "2009      580\n",
       "Name: launched_at_yr, dtype: int64"
      ]
     },
     "execution_count": 12,
     "metadata": {},
     "output_type": "execute_result"
    }
   ],
   "source": [
    "df.launched_at_yr.value_counts()"
   ]
  },
  {
   "cell_type": "markdown",
   "metadata": {},
   "source": [
    "Let's look at growth in campaigns from 2009 to 2017"
   ]
  },
  {
   "cell_type": "code",
   "execution_count": 13,
   "metadata": {
    "collapsed": true
   },
   "outputs": [],
   "source": [
    "df['count'] = 1"
   ]
  },
  {
   "cell_type": "code",
   "execution_count": 14,
   "metadata": {
    "collapsed": false
   },
   "outputs": [
    {
     "data": {
      "image/png": "[encoded data removed]",
      "text/plain": [
       "<matplotlib.figure.Figure at 0x1420d1cc0>"
      ]
     },
     "metadata": {},
     "output_type": "display_data"
    }
   ],
   "source": [
    "def plot_monthly_campaign_count(n):\n",
    "    \n",
    "    mth = df[df['launched_at_yr'] == n]\n",
    "    mth_cnt = mth.groupby('launched_at_mo').count()['count']\n",
    "    mth_cnt.plot(marker='o', markersize=5, alpha=.5, rot=90)\n",
    "\n",
    "fig = plt.figure(figsize=(12, 4))\n",
    "for i in range(2009, 2018):\n",
    "    plot_monthly_campaign_count(i)\n",
    "plt.ylabel('Number of Campaigns', fontsize=14)\n",
    "plt.xlabel('Month', fontsize=14)\n",
    "plt.legend(range(2009, 2018))\n",
    "plt.show()"
   ]
  },
  {
   "cell_type": "markdown",
   "metadata": {},
   "source": [
    "Peak campaign count occured in the month of july in 2014. Not really any seasonality is readily apparent."
   ]
  },
  {
   "cell_type": "code",
   "execution_count": 15,
   "metadata": {
    "collapsed": false
   },
   "outputs": [
    {
     "data": {
      "text/html": [
       "<div>\n",
       "<table border=\"1\" class=\"dataframe\">\n",
       "  <thead>\n",
       "    <tr style=\"text-align: right;\">\n",
       "      <th>launched_at_yr</th>\n",
       "      <th>2009</th>\n",
       "      <th>2010</th>\n",
       "      <th>2011</th>\n",
       "      <th>2012</th>\n",
       "      <th>2013</th>\n",
       "      <th>2014</th>\n",
       "      <th>2015</th>\n",
       "      <th>2016</th>\n",
       "      <th>2017</th>\n",
       "    </tr>\n",
       "    <tr>\n",
       "      <th>launched_at_mo</th>\n",
       "      <th></th>\n",
       "      <th></th>\n",
       "      <th></th>\n",
       "      <th></th>\n",
       "      <th></th>\n",
       "      <th></th>\n",
       "      <th></th>\n",
       "      <th></th>\n",
       "      <th></th>\n",
       "    </tr>\n",
       "  </thead>\n",
       "  <tbody>\n",
       "    <tr>\n",
       "      <th>1</th>\n",
       "      <td>0</td>\n",
       "      <td>121</td>\n",
       "      <td>605</td>\n",
       "      <td>1135</td>\n",
       "      <td>1292</td>\n",
       "      <td>1286</td>\n",
       "      <td>4029</td>\n",
       "      <td>2976</td>\n",
       "      <td>2821</td>\n",
       "    </tr>\n",
       "    <tr>\n",
       "      <th>2</th>\n",
       "      <td>0</td>\n",
       "      <td>140</td>\n",
       "      <td>544</td>\n",
       "      <td>1404</td>\n",
       "      <td>1290</td>\n",
       "      <td>1444</td>\n",
       "      <td>4659</td>\n",
       "      <td>3253</td>\n",
       "      <td>2885</td>\n",
       "    </tr>\n",
       "    <tr>\n",
       "      <th>3</th>\n",
       "      <td>0</td>\n",
       "      <td>199</td>\n",
       "      <td>468</td>\n",
       "      <td>1609</td>\n",
       "      <td>1500</td>\n",
       "      <td>1661</td>\n",
       "      <td>4976</td>\n",
       "      <td>3356</td>\n",
       "      <td>2107</td>\n",
       "    </tr>\n",
       "    <tr>\n",
       "      <th>4</th>\n",
       "      <td>6</td>\n",
       "      <td>245</td>\n",
       "      <td>824</td>\n",
       "      <td>1534</td>\n",
       "      <td>1613</td>\n",
       "      <td>1944</td>\n",
       "      <td>4549</td>\n",
       "      <td>3105</td>\n",
       "      <td>0</td>\n",
       "    </tr>\n",
       "    <tr>\n",
       "      <th>5</th>\n",
       "      <td>34</td>\n",
       "      <td>255</td>\n",
       "      <td>870</td>\n",
       "      <td>1558</td>\n",
       "      <td>1654</td>\n",
       "      <td>2629</td>\n",
       "      <td>4208</td>\n",
       "      <td>3058</td>\n",
       "      <td>0</td>\n",
       "    </tr>\n",
       "    <tr>\n",
       "      <th>6</th>\n",
       "      <td>23</td>\n",
       "      <td>371</td>\n",
       "      <td>865</td>\n",
       "      <td>1593</td>\n",
       "      <td>1409</td>\n",
       "      <td>2955</td>\n",
       "      <td>4070</td>\n",
       "      <td>2875</td>\n",
       "      <td>0</td>\n",
       "    </tr>\n",
       "    <tr>\n",
       "      <th>7</th>\n",
       "      <td>30</td>\n",
       "      <td>398</td>\n",
       "      <td>914</td>\n",
       "      <td>1425</td>\n",
       "      <td>1434</td>\n",
       "      <td>6154</td>\n",
       "      <td>3575</td>\n",
       "      <td>2560</td>\n",
       "      <td>0</td>\n",
       "    </tr>\n",
       "    <tr>\n",
       "      <th>8</th>\n",
       "      <td>46</td>\n",
       "      <td>389</td>\n",
       "      <td>943</td>\n",
       "      <td>1374</td>\n",
       "      <td>1358</td>\n",
       "      <td>4385</td>\n",
       "      <td>3411</td>\n",
       "      <td>2624</td>\n",
       "      <td>0</td>\n",
       "    </tr>\n",
       "    <tr>\n",
       "      <th>9</th>\n",
       "      <td>163</td>\n",
       "      <td>367</td>\n",
       "      <td>847</td>\n",
       "      <td>1203</td>\n",
       "      <td>1390</td>\n",
       "      <td>3870</td>\n",
       "      <td>3519</td>\n",
       "      <td>2646</td>\n",
       "      <td>0</td>\n",
       "    </tr>\n",
       "    <tr>\n",
       "      <th>10</th>\n",
       "      <td>92</td>\n",
       "      <td>461</td>\n",
       "      <td>954</td>\n",
       "      <td>1330</td>\n",
       "      <td>1554</td>\n",
       "      <td>4192</td>\n",
       "      <td>3456</td>\n",
       "      <td>2857</td>\n",
       "      <td>0</td>\n",
       "    </tr>\n",
       "    <tr>\n",
       "      <th>11</th>\n",
       "      <td>96</td>\n",
       "      <td>509</td>\n",
       "      <td>1067</td>\n",
       "      <td>1198</td>\n",
       "      <td>1579</td>\n",
       "      <td>3682</td>\n",
       "      <td>3492</td>\n",
       "      <td>2945</td>\n",
       "      <td>0</td>\n",
       "    </tr>\n",
       "    <tr>\n",
       "      <th>12</th>\n",
       "      <td>90</td>\n",
       "      <td>504</td>\n",
       "      <td>896</td>\n",
       "      <td>904</td>\n",
       "      <td>1118</td>\n",
       "      <td>2502</td>\n",
       "      <td>2336</td>\n",
       "      <td>1987</td>\n",
       "      <td>0</td>\n",
       "    </tr>\n",
       "  </tbody>\n",
       "</table>\n",
       "</div>"
      ],
      "text/plain": [
       "launched_at_yr  2009  2010  2011  2012  2013  2014  2015  2016  2017\n",
       "launched_at_mo                                                      \n",
       "1                  0   121   605  1135  1292  1286  4029  2976  2821\n",
       "2                  0   140   544  1404  1290  1444  4659  3253  2885\n",
       "3                  0   199   468  1609  1500  1661  4976  3356  2107\n",
       "4                  6   245   824  1534  1613  1944  4549  3105     0\n",
       "5                 34   255   870  1558  1654  2629  4208  3058     0\n",
       "6                 23   371   865  1593  1409  2955  4070  2875     0\n",
       "7                 30   398   914  1425  1434  6154  3575  2560     0\n",
       "8                 46   389   943  1374  1358  4385  3411  2624     0\n",
       "9                163   367   847  1203  1390  3870  3519  2646     0\n",
       "10                92   461   954  1330  1554  4192  3456  2857     0\n",
       "11                96   509  1067  1198  1579  3682  3492  2945     0\n",
       "12                90   504   896   904  1118  2502  2336  1987     0"
      ]
     },
     "execution_count": 15,
     "metadata": {},
     "output_type": "execute_result"
    }
   ],
   "source": [
    "pd.crosstab(df.launched_at_mo, df.launched_at_yr)"
   ]
  },
  {
   "cell_type": "markdown",
   "metadata": {},
   "source": [
    "## Create a label/target"
   ]
  },
  {
   "cell_type": "code",
   "execution_count": 17,
   "metadata": {
    "collapsed": false
   },
   "outputs": [
    {
     "data": {
      "text/plain": [
       "failed        82718\n",
       "successful    73810\n",
       "canceled      11588\n",
       "live           3882\n",
       "suspended       835\n",
       "Name: state, dtype: int64"
      ]
     },
     "execution_count": 17,
     "metadata": {},
     "output_type": "execute_result"
    }
   ],
   "source": [
    "df.state.value_counts()"
   ]
  },
  {
   "cell_type": "markdown",
   "metadata": {},
   "source": [
    "Roughly balanced classes... nice!"
   ]
  },
  {
   "cell_type": "code",
   "execution_count": 18,
   "metadata": {
    "collapsed": true
   },
   "outputs": [],
   "source": [
    "df['success'] = (df['state'] == 'successful')"
   ]
  },
  {
   "cell_type": "code",
   "execution_count": 19,
   "metadata": {
    "collapsed": false
   },
   "outputs": [
    {
     "data": {
      "text/plain": [
       "False    99023\n",
       "True     73810\n",
       "Name: success, dtype: int64"
      ]
     },
     "execution_count": 19,
     "metadata": {},
     "output_type": "execute_result"
    }
   ],
   "source": [
    "df.success.value_counts()"
   ]
  },
  {
   "cell_type": "markdown",
   "metadata": {},
   "source": [
    "While we are at it let's drop live, suspended or cancelled campaign's from the dataset. You may wonder whether a campaign that was canceled or suspended would have suceeded but I can't see these providing our model with much information. Maybe in the future, we try a multiclass model(more than 2 target values) to predict cancelation or suspention. Just for fun, lets create a test set with the live campaigns for predicting whether or not they are likely to succeed or fail"
   ]
  },
  {
   "cell_type": "code",
   "execution_count": 20,
   "metadata": {
    "collapsed": true
   },
   "outputs": [],
   "source": [
    "test_live = df[df.state == 'live']"
   ]
  },
  {
   "cell_type": "code",
   "execution_count": 21,
   "metadata": {
    "collapsed": false
   },
   "outputs": [
    {
     "data": {
      "text/plain": [
       "(3882, 46)"
      ]
     },
     "execution_count": 21,
     "metadata": {},
     "output_type": "execute_result"
    }
   ],
   "source": [
    "test_live.shape"
   ]
  },
  {
   "cell_type": "code",
   "execution_count": 22,
   "metadata": {
    "collapsed": false
   },
   "outputs": [],
   "source": [
    "df = df[df['state'].isin(['successful', 'failed'])]"
   ]
  },
  {
   "cell_type": "code",
   "execution_count": 23,
   "metadata": {
    "collapsed": false
   },
   "outputs": [
    {
     "data": {
      "text/plain": [
       "failed        82718\n",
       "successful    73810\n",
       "Name: state, dtype: int64"
      ]
     },
     "execution_count": 23,
     "metadata": {},
     "output_type": "execute_result"
    }
   ],
   "source": [
    "df.state.value_counts()"
   ]
  },
  {
   "cell_type": "code",
   "execution_count": 24,
   "metadata": {
    "collapsed": false
   },
   "outputs": [
    {
     "data": {
      "text/plain": [
       "False    82718\n",
       "True     73810\n",
       "Name: success, dtype: int64"
      ]
     },
     "execution_count": 24,
     "metadata": {},
     "output_type": "execute_result"
    }
   ],
   "source": [
    "df.success.value_counts()"
   ]
  },
  {
   "cell_type": "code",
   "execution_count": 25,
   "metadata": {
    "collapsed": false
   },
   "outputs": [
    {
     "data": {
      "text/plain": [
       "False    135593\n",
       "True      20935\n",
       "Name: staff_pick, dtype: int64"
      ]
     },
     "execution_count": 25,
     "metadata": {},
     "output_type": "execute_result"
    }
   ],
   "source": [
    "df.staff_pick.value_counts()"
   ]
  },
  {
   "cell_type": "code",
   "execution_count": 26,
   "metadata": {
    "collapsed": false
   },
   "outputs": [
    {
     "name": "stdout",
     "output_type": "stream",
     "text": [
      "Not so nice, ~ 13% are staff picked\n"
     ]
    }
   ],
   "source": [
    "staff_picked = df.staff_pick.value_counts()\n",
    "print(\"Not so nice, ~ %g%% are staff picked\" % (staff_picked[1] * 100 / staff_picked.sum()).round())"
   ]
  },
  {
   "cell_type": "code",
   "execution_count": 27,
   "metadata": {
    "collapsed": false
   },
   "outputs": [
    {
     "data": {
      "text/html": [
       "<div>\n",
       "<table border=\"1\" class=\"dataframe\">\n",
       "  <thead>\n",
       "    <tr style=\"text-align: right;\">\n",
       "      <th>success</th>\n",
       "      <th>False</th>\n",
       "      <th>True</th>\n",
       "    </tr>\n",
       "    <tr>\n",
       "      <th>staff_pick</th>\n",
       "      <th></th>\n",
       "      <th></th>\n",
       "    </tr>\n",
       "  </thead>\n",
       "  <tbody>\n",
       "    <tr>\n",
       "      <th>False</th>\n",
       "      <td>79279</td>\n",
       "      <td>56314</td>\n",
       "    </tr>\n",
       "    <tr>\n",
       "      <th>True</th>\n",
       "      <td>3439</td>\n",
       "      <td>17496</td>\n",
       "    </tr>\n",
       "  </tbody>\n",
       "</table>\n",
       "</div>"
      ],
      "text/plain": [
       "success     False  True \n",
       "staff_pick              \n",
       "False       79279  56314\n",
       "True         3439  17496"
      ]
     },
     "execution_count": 27,
     "metadata": {},
     "output_type": "execute_result"
    }
   ],
   "source": [
    "pd.crosstab(df.staff_pick, df.success)"
   ]
  },
  {
   "cell_type": "markdown",
   "metadata": {},
   "source": [
    "### Basic Stats"
   ]
  },
  {
   "cell_type": "code",
   "execution_count": 28,
   "metadata": {
    "collapsed": false
   },
   "outputs": [
    {
     "data": {
      "text/html": [
       "<div>\n",
       "<table border=\"1\" class=\"dataframe\">\n",
       "  <thead>\n",
       "    <tr style=\"text-align: right;\">\n",
       "      <th></th>\n",
       "      <th>count</th>\n",
       "      <th>mean</th>\n",
       "      <th>std</th>\n",
       "      <th>min</th>\n",
       "      <th>25%</th>\n",
       "      <th>50%</th>\n",
       "      <th>75%</th>\n",
       "      <th>max</th>\n",
       "    </tr>\n",
       "  </thead>\n",
       "  <tbody>\n",
       "    <tr>\n",
       "      <th>id</th>\n",
       "      <td>156528.0</td>\n",
       "      <td>1.075294e+09</td>\n",
       "      <td>6.188733e+08</td>\n",
       "      <td>18520.000000</td>\n",
       "      <td>538407189.0</td>\n",
       "      <td>1.078533e+09</td>\n",
       "      <td>1.610490e+09</td>\n",
       "      <td>2.147476e+09</td>\n",
       "    </tr>\n",
       "    <tr>\n",
       "      <th>goal</th>\n",
       "      <td>156528.0</td>\n",
       "      <td>4.467307e+04</td>\n",
       "      <td>1.108518e+06</td>\n",
       "      <td>0.010000</td>\n",
       "      <td>2000.0</td>\n",
       "      <td>5.000000e+03</td>\n",
       "      <td>1.500000e+04</td>\n",
       "      <td>1.000000e+08</td>\n",
       "    </tr>\n",
       "    <tr>\n",
       "      <th>pledged</th>\n",
       "      <td>156528.0</td>\n",
       "      <td>1.285096e+04</td>\n",
       "      <td>1.245160e+05</td>\n",
       "      <td>0.000000</td>\n",
       "      <td>50.0</td>\n",
       "      <td>1.046000e+03</td>\n",
       "      <td>5.497737e+03</td>\n",
       "      <td>2.033899e+07</td>\n",
       "    </tr>\n",
       "    <tr>\n",
       "      <th>backers_count</th>\n",
       "      <td>156528.0</td>\n",
       "      <td>1.473830e+02</td>\n",
       "      <td>1.285333e+03</td>\n",
       "      <td>0.000000</td>\n",
       "      <td>2.0</td>\n",
       "      <td>1.900000e+01</td>\n",
       "      <td>7.500000e+01</td>\n",
       "      <td>2.193820e+05</td>\n",
       "    </tr>\n",
       "    <tr>\n",
       "      <th>static_usd_rate</th>\n",
       "      <td>156528.0</td>\n",
       "      <td>1.027985e+00</td>\n",
       "      <td>1.929297e-01</td>\n",
       "      <td>0.045635</td>\n",
       "      <td>1.0</td>\n",
       "      <td>1.000000e+00</td>\n",
       "      <td>1.000000e+00</td>\n",
       "      <td>1.716408e+00</td>\n",
       "    </tr>\n",
       "    <tr>\n",
       "      <th>usd_pledged</th>\n",
       "      <td>156528.0</td>\n",
       "      <td>1.239698e+04</td>\n",
       "      <td>1.223180e+05</td>\n",
       "      <td>0.000000</td>\n",
       "      <td>50.0</td>\n",
       "      <td>1.057000e+03</td>\n",
       "      <td>5.505000e+03</td>\n",
       "      <td>2.033899e+07</td>\n",
       "    </tr>\n",
       "    <tr>\n",
       "      <th>launched_at_hr</th>\n",
       "      <td>156528.0</td>\n",
       "      <td>1.464891e+01</td>\n",
       "      <td>7.157756e+00</td>\n",
       "      <td>1.000000</td>\n",
       "      <td>9.0</td>\n",
       "      <td>1.700000e+01</td>\n",
       "      <td>2.000000e+01</td>\n",
       "      <td>2.400000e+01</td>\n",
       "    </tr>\n",
       "    <tr>\n",
       "      <th>launched_at_dow</th>\n",
       "      <td>156528.0</td>\n",
       "      <td>3.366771e+00</td>\n",
       "      <td>1.772662e+00</td>\n",
       "      <td>1.000000</td>\n",
       "      <td>2.0</td>\n",
       "      <td>3.000000e+00</td>\n",
       "      <td>5.000000e+00</td>\n",
       "      <td>7.000000e+00</td>\n",
       "    </tr>\n",
       "    <tr>\n",
       "      <th>launched_at_mo</th>\n",
       "      <td>156528.0</td>\n",
       "      <td>6.428524e+00</td>\n",
       "      <td>3.365714e+00</td>\n",
       "      <td>1.000000</td>\n",
       "      <td>4.0</td>\n",
       "      <td>7.000000e+00</td>\n",
       "      <td>9.000000e+00</td>\n",
       "      <td>1.200000e+01</td>\n",
       "    </tr>\n",
       "    <tr>\n",
       "      <th>launched_at_yr</th>\n",
       "      <td>156528.0</td>\n",
       "      <td>2.014130e+03</td>\n",
       "      <td>1.666356e+00</td>\n",
       "      <td>2009.000000</td>\n",
       "      <td>2013.0</td>\n",
       "      <td>2.014000e+03</td>\n",
       "      <td>2.015000e+03</td>\n",
       "      <td>2.017000e+03</td>\n",
       "    </tr>\n",
       "    <tr>\n",
       "      <th>deadline_hr</th>\n",
       "      <td>156528.0</td>\n",
       "      <td>1.359645e+01</td>\n",
       "      <td>7.553261e+00</td>\n",
       "      <td>1.000000</td>\n",
       "      <td>6.0</td>\n",
       "      <td>1.600000e+01</td>\n",
       "      <td>2.000000e+01</td>\n",
       "      <td>2.400000e+01</td>\n",
       "    </tr>\n",
       "    <tr>\n",
       "      <th>deadline_dow</th>\n",
       "      <td>156528.0</td>\n",
       "      <td>4.192394e+00</td>\n",
       "      <td>1.934017e+00</td>\n",
       "      <td>1.000000</td>\n",
       "      <td>3.0</td>\n",
       "      <td>4.000000e+00</td>\n",
       "      <td>6.000000e+00</td>\n",
       "      <td>7.000000e+00</td>\n",
       "    </tr>\n",
       "    <tr>\n",
       "      <th>deadline_mo</th>\n",
       "      <td>156528.0</td>\n",
       "      <td>6.685718e+00</td>\n",
       "      <td>3.372086e+00</td>\n",
       "      <td>1.000000</td>\n",
       "      <td>4.0</td>\n",
       "      <td>7.000000e+00</td>\n",
       "      <td>1.000000e+01</td>\n",
       "      <td>1.200000e+01</td>\n",
       "    </tr>\n",
       "    <tr>\n",
       "      <th>deadline_yr</th>\n",
       "      <td>156528.0</td>\n",
       "      <td>2.014201e+03</td>\n",
       "      <td>1.665715e+00</td>\n",
       "      <td>2009.000000</td>\n",
       "      <td>2013.0</td>\n",
       "      <td>2.015000e+03</td>\n",
       "      <td>2.015000e+03</td>\n",
       "      <td>2.017000e+03</td>\n",
       "    </tr>\n",
       "    <tr>\n",
       "      <th>created_at_hr</th>\n",
       "      <td>156528.0</td>\n",
       "      <td>1.414479e+01</td>\n",
       "      <td>7.451245e+00</td>\n",
       "      <td>1.000000</td>\n",
       "      <td>7.0</td>\n",
       "      <td>1.600000e+01</td>\n",
       "      <td>2.000000e+01</td>\n",
       "      <td>2.400000e+01</td>\n",
       "    </tr>\n",
       "    <tr>\n",
       "      <th>created_at_dow</th>\n",
       "      <td>156528.0</td>\n",
       "      <td>3.663849e+00</td>\n",
       "      <td>1.921867e+00</td>\n",
       "      <td>1.000000</td>\n",
       "      <td>2.0</td>\n",
       "      <td>3.000000e+00</td>\n",
       "      <td>5.000000e+00</td>\n",
       "      <td>7.000000e+00</td>\n",
       "    </tr>\n",
       "    <tr>\n",
       "      <th>created_at_mo</th>\n",
       "      <td>156528.0</td>\n",
       "      <td>6.338515e+00</td>\n",
       "      <td>3.369771e+00</td>\n",
       "      <td>1.000000</td>\n",
       "      <td>3.0</td>\n",
       "      <td>6.000000e+00</td>\n",
       "      <td>9.000000e+00</td>\n",
       "      <td>1.200000e+01</td>\n",
       "    </tr>\n",
       "    <tr>\n",
       "      <th>created_at_yr</th>\n",
       "      <td>156528.0</td>\n",
       "      <td>2.014019e+03</td>\n",
       "      <td>1.663311e+00</td>\n",
       "      <td>2009.000000</td>\n",
       "      <td>2013.0</td>\n",
       "      <td>2.014000e+03</td>\n",
       "      <td>2.015000e+03</td>\n",
       "      <td>2.017000e+03</td>\n",
       "    </tr>\n",
       "    <tr>\n",
       "      <th>count</th>\n",
       "      <td>156528.0</td>\n",
       "      <td>1.000000e+00</td>\n",
       "      <td>0.000000e+00</td>\n",
       "      <td>1.000000</td>\n",
       "      <td>1.0</td>\n",
       "      <td>1.000000e+00</td>\n",
       "      <td>1.000000e+00</td>\n",
       "      <td>1.000000e+00</td>\n",
       "    </tr>\n",
       "  </tbody>\n",
       "</table>\n",
       "</div>"
      ],
      "text/plain": [
       "                    count          mean           std           min  \\\n",
       "id               156528.0  1.075294e+09  6.188733e+08  18520.000000   \n",
       "goal             156528.0  4.467307e+04  1.108518e+06      0.010000   \n",
       "pledged          156528.0  1.285096e+04  1.245160e+05      0.000000   \n",
       "backers_count    156528.0  1.473830e+02  1.285333e+03      0.000000   \n",
       "static_usd_rate  156528.0  1.027985e+00  1.929297e-01      0.045635   \n",
       "usd_pledged      156528.0  1.239698e+04  1.223180e+05      0.000000   \n",
       "launched_at_hr   156528.0  1.464891e+01  7.157756e+00      1.000000   \n",
       "launched_at_dow  156528.0  3.366771e+00  1.772662e+00      1.000000   \n",
       "launched_at_mo   156528.0  6.428524e+00  3.365714e+00      1.000000   \n",
       "launched_at_yr   156528.0  2.014130e+03  1.666356e+00   2009.000000   \n",
       "deadline_hr      156528.0  1.359645e+01  7.553261e+00      1.000000   \n",
       "deadline_dow     156528.0  4.192394e+00  1.934017e+00      1.000000   \n",
       "deadline_mo      156528.0  6.685718e+00  3.372086e+00      1.000000   \n",
       "deadline_yr      156528.0  2.014201e+03  1.665715e+00   2009.000000   \n",
       "created_at_hr    156528.0  1.414479e+01  7.451245e+00      1.000000   \n",
       "created_at_dow   156528.0  3.663849e+00  1.921867e+00      1.000000   \n",
       "created_at_mo    156528.0  6.338515e+00  3.369771e+00      1.000000   \n",
       "created_at_yr    156528.0  2.014019e+03  1.663311e+00   2009.000000   \n",
       "count            156528.0  1.000000e+00  0.000000e+00      1.000000   \n",
       "\n",
       "                         25%           50%           75%           max  \n",
       "id               538407189.0  1.078533e+09  1.610490e+09  2.147476e+09  \n",
       "goal                  2000.0  5.000000e+03  1.500000e+04  1.000000e+08  \n",
       "pledged                 50.0  1.046000e+03  5.497737e+03  2.033899e+07  \n",
       "backers_count            2.0  1.900000e+01  7.500000e+01  2.193820e+05  \n",
       "static_usd_rate          1.0  1.000000e+00  1.000000e+00  1.716408e+00  \n",
       "usd_pledged             50.0  1.057000e+03  5.505000e+03  2.033899e+07  \n",
       "launched_at_hr           9.0  1.700000e+01  2.000000e+01  2.400000e+01  \n",
       "launched_at_dow          2.0  3.000000e+00  5.000000e+00  7.000000e+00  \n",
       "launched_at_mo           4.0  7.000000e+00  9.000000e+00  1.200000e+01  \n",
       "launched_at_yr        2013.0  2.014000e+03  2.015000e+03  2.017000e+03  \n",
       "deadline_hr              6.0  1.600000e+01  2.000000e+01  2.400000e+01  \n",
       "deadline_dow             3.0  4.000000e+00  6.000000e+00  7.000000e+00  \n",
       "deadline_mo              4.0  7.000000e+00  1.000000e+01  1.200000e+01  \n",
       "deadline_yr           2013.0  2.015000e+03  2.015000e+03  2.017000e+03  \n",
       "created_at_hr            7.0  1.600000e+01  2.000000e+01  2.400000e+01  \n",
       "created_at_dow           2.0  3.000000e+00  5.000000e+00  7.000000e+00  \n",
       "created_at_mo            3.0  6.000000e+00  9.000000e+00  1.200000e+01  \n",
       "created_at_yr         2013.0  2.014000e+03  2.015000e+03  2.017000e+03  \n",
       "count                    1.0  1.000000e+00  1.000000e+00  1.000000e+00  "
      ]
     },
     "execution_count": 28,
     "metadata": {},
     "output_type": "execute_result"
    }
   ],
   "source": [
    "df.describe().T"
   ]
  },
  {
   "cell_type": "code",
   "execution_count": 29,
   "metadata": {
    "collapsed": false
   },
   "outputs": [
    {
     "data": {
      "text/html": [
       "<div>\n",
       "<table border=\"1\" class=\"dataframe\">\n",
       "  <thead>\n",
       "    <tr style=\"text-align: right;\">\n",
       "      <th></th>\n",
       "      <th>id</th>\n",
       "      <th>goal</th>\n",
       "      <th>pledged</th>\n",
       "      <th>disable_communication</th>\n",
       "      <th>currency_trailing_code</th>\n",
       "      <th>staff_pick</th>\n",
       "      <th>backers_count</th>\n",
       "      <th>static_usd_rate</th>\n",
       "      <th>usd_pledged</th>\n",
       "      <th>spotlight</th>\n",
       "      <th>...</th>\n",
       "      <th>deadline_hr</th>\n",
       "      <th>deadline_dow</th>\n",
       "      <th>deadline_mo</th>\n",
       "      <th>deadline_yr</th>\n",
       "      <th>created_at_hr</th>\n",
       "      <th>created_at_dow</th>\n",
       "      <th>created_at_mo</th>\n",
       "      <th>created_at_yr</th>\n",
       "      <th>count</th>\n",
       "      <th>success</th>\n",
       "    </tr>\n",
       "  </thead>\n",
       "  <tbody>\n",
       "    <tr>\n",
       "      <th>id</th>\n",
       "      <td>1.000000</td>\n",
       "      <td>0.001855</td>\n",
       "      <td>0.001044</td>\n",
       "      <td>NaN</td>\n",
       "      <td>0.002864</td>\n",
       "      <td>0.000903</td>\n",
       "      <td>0.001129</td>\n",
       "      <td>-0.002425</td>\n",
       "      <td>0.000745</td>\n",
       "      <td>-0.000266</td>\n",
       "      <td>...</td>\n",
       "      <td>0.000490</td>\n",
       "      <td>-0.001754</td>\n",
       "      <td>0.001223</td>\n",
       "      <td>-0.001003</td>\n",
       "      <td>-0.001734</td>\n",
       "      <td>0.000494</td>\n",
       "      <td>-0.004499</td>\n",
       "      <td>-0.001293</td>\n",
       "      <td>NaN</td>\n",
       "      <td>-0.000266</td>\n",
       "    </tr>\n",
       "    <tr>\n",
       "      <th>goal</th>\n",
       "      <td>0.001855</td>\n",
       "      <td>1.000000</td>\n",
       "      <td>0.009500</td>\n",
       "      <td>NaN</td>\n",
       "      <td>-0.000260</td>\n",
       "      <td>-0.006602</td>\n",
       "      <td>0.007792</td>\n",
       "      <td>-0.012211</td>\n",
       "      <td>0.008937</td>\n",
       "      <td>-0.028857</td>\n",
       "      <td>...</td>\n",
       "      <td>0.003298</td>\n",
       "      <td>-0.003937</td>\n",
       "      <td>-0.001196</td>\n",
       "      <td>0.016484</td>\n",
       "      <td>-0.001331</td>\n",
       "      <td>0.006647</td>\n",
       "      <td>0.000370</td>\n",
       "      <td>0.015454</td>\n",
       "      <td>NaN</td>\n",
       "      <td>-0.028857</td>\n",
       "    </tr>\n",
       "    <tr>\n",
       "      <th>pledged</th>\n",
       "      <td>0.001044</td>\n",
       "      <td>0.009500</td>\n",
       "      <td>1.000000</td>\n",
       "      <td>NaN</td>\n",
       "      <td>0.017319</td>\n",
       "      <td>0.135431</td>\n",
       "      <td>0.732125</td>\n",
       "      <td>-0.033868</td>\n",
       "      <td>0.979246</td>\n",
       "      <td>0.098150</td>\n",
       "      <td>...</td>\n",
       "      <td>-0.014693</td>\n",
       "      <td>0.003431</td>\n",
       "      <td>0.001600</td>\n",
       "      <td>0.021726</td>\n",
       "      <td>0.000788</td>\n",
       "      <td>-0.008555</td>\n",
       "      <td>0.001407</td>\n",
       "      <td>0.017598</td>\n",
       "      <td>NaN</td>\n",
       "      <td>0.098150</td>\n",
       "    </tr>\n",
       "    <tr>\n",
       "      <th>disable_communication</th>\n",
       "      <td>NaN</td>\n",
       "      <td>NaN</td>\n",
       "      <td>NaN</td>\n",
       "      <td>NaN</td>\n",
       "      <td>NaN</td>\n",
       "      <td>NaN</td>\n",
       "      <td>NaN</td>\n",
       "      <td>NaN</td>\n",
       "      <td>NaN</td>\n",
       "      <td>NaN</td>\n",
       "      <td>...</td>\n",
       "      <td>NaN</td>\n",
       "      <td>NaN</td>\n",
       "      <td>NaN</td>\n",
       "      <td>NaN</td>\n",
       "      <td>NaN</td>\n",
       "      <td>NaN</td>\n",
       "      <td>NaN</td>\n",
       "      <td>NaN</td>\n",
       "      <td>NaN</td>\n",
       "      <td>NaN</td>\n",
       "    </tr>\n",
       "    <tr>\n",
       "      <th>currency_trailing_code</th>\n",
       "      <td>0.002864</td>\n",
       "      <td>-0.000260</td>\n",
       "      <td>0.017319</td>\n",
       "      <td>NaN</td>\n",
       "      <td>1.000000</td>\n",
       "      <td>0.008817</td>\n",
       "      <td>0.010037</td>\n",
       "      <td>-0.725085</td>\n",
       "      <td>0.008423</td>\n",
       "      <td>0.049079</td>\n",
       "      <td>...</td>\n",
       "      <td>-0.123715</td>\n",
       "      <td>-0.010192</td>\n",
       "      <td>-0.004032</td>\n",
       "      <td>-0.198666</td>\n",
       "      <td>-0.045797</td>\n",
       "      <td>0.005453</td>\n",
       "      <td>-0.012779</td>\n",
       "      <td>-0.203314</td>\n",
       "      <td>NaN</td>\n",
       "      <td>0.049079</td>\n",
       "    </tr>\n",
       "    <tr>\n",
       "      <th>staff_pick</th>\n",
       "      <td>0.000903</td>\n",
       "      <td>-0.006602</td>\n",
       "      <td>0.135431</td>\n",
       "      <td>NaN</td>\n",
       "      <td>0.008817</td>\n",
       "      <td>1.000000</td>\n",
       "      <td>0.148680</td>\n",
       "      <td>0.012244</td>\n",
       "      <td>0.134698</td>\n",
       "      <td>0.286664</td>\n",
       "      <td>...</td>\n",
       "      <td>-0.033307</td>\n",
       "      <td>-0.015661</td>\n",
       "      <td>0.014363</td>\n",
       "      <td>-0.047078</td>\n",
       "      <td>0.020622</td>\n",
       "      <td>-0.016131</td>\n",
       "      <td>0.007259</td>\n",
       "      <td>-0.056749</td>\n",
       "      <td>NaN</td>\n",
       "      <td>0.286664</td>\n",
       "    </tr>\n",
       "    <tr>\n",
       "      <th>backers_count</th>\n",
       "      <td>0.001129</td>\n",
       "      <td>0.007792</td>\n",
       "      <td>0.732125</td>\n",
       "      <td>NaN</td>\n",
       "      <td>0.010037</td>\n",
       "      <td>0.148680</td>\n",
       "      <td>1.000000</td>\n",
       "      <td>-0.002236</td>\n",
       "      <td>0.749957</td>\n",
       "      <td>0.108666</td>\n",
       "      <td>...</td>\n",
       "      <td>-0.018297</td>\n",
       "      <td>0.002753</td>\n",
       "      <td>0.000987</td>\n",
       "      <td>0.010513</td>\n",
       "      <td>0.001806</td>\n",
       "      <td>-0.004409</td>\n",
       "      <td>0.000202</td>\n",
       "      <td>0.006193</td>\n",
       "      <td>NaN</td>\n",
       "      <td>0.108666</td>\n",
       "    </tr>\n",
       "    <tr>\n",
       "      <th>static_usd_rate</th>\n",
       "      <td>-0.002425</td>\n",
       "      <td>-0.012211</td>\n",
       "      <td>-0.033868</td>\n",
       "      <td>NaN</td>\n",
       "      <td>-0.725085</td>\n",
       "      <td>0.012244</td>\n",
       "      <td>-0.002236</td>\n",
       "      <td>1.000000</td>\n",
       "      <td>-0.001859</td>\n",
       "      <td>0.001774</td>\n",
       "      <td>...</td>\n",
       "      <td>0.085879</td>\n",
       "      <td>0.008743</td>\n",
       "      <td>0.008908</td>\n",
       "      <td>-0.015678</td>\n",
       "      <td>0.054158</td>\n",
       "      <td>0.002064</td>\n",
       "      <td>-0.013459</td>\n",
       "      <td>-0.009976</td>\n",
       "      <td>NaN</td>\n",
       "      <td>0.001774</td>\n",
       "    </tr>\n",
       "    <tr>\n",
       "      <th>usd_pledged</th>\n",
       "      <td>0.000745</td>\n",
       "      <td>0.008937</td>\n",
       "      <td>0.979246</td>\n",
       "      <td>NaN</td>\n",
       "      <td>0.008423</td>\n",
       "      <td>0.134698</td>\n",
       "      <td>0.749957</td>\n",
       "      <td>-0.001859</td>\n",
       "      <td>1.000000</td>\n",
       "      <td>0.096416</td>\n",
       "      <td>...</td>\n",
       "      <td>-0.014881</td>\n",
       "      <td>0.003862</td>\n",
       "      <td>0.001114</td>\n",
       "      <td>0.016886</td>\n",
       "      <td>0.002173</td>\n",
       "      <td>-0.008357</td>\n",
       "      <td>-0.000554</td>\n",
       "      <td>0.012897</td>\n",
       "      <td>NaN</td>\n",
       "      <td>0.096416</td>\n",
       "    </tr>\n",
       "    <tr>\n",
       "      <th>spotlight</th>\n",
       "      <td>-0.000266</td>\n",
       "      <td>-0.028857</td>\n",
       "      <td>0.098150</td>\n",
       "      <td>NaN</td>\n",
       "      <td>0.049079</td>\n",
       "      <td>0.286664</td>\n",
       "      <td>0.108666</td>\n",
       "      <td>0.001774</td>\n",
       "      <td>0.096416</td>\n",
       "      <td>1.000000</td>\n",
       "      <td>...</td>\n",
       "      <td>-0.070798</td>\n",
       "      <td>-0.027505</td>\n",
       "      <td>-0.002189</td>\n",
       "      <td>-0.146228</td>\n",
       "      <td>0.020330</td>\n",
       "      <td>-0.018291</td>\n",
       "      <td>-0.015445</td>\n",
       "      <td>-0.149378</td>\n",
       "      <td>NaN</td>\n",
       "      <td>1.000000</td>\n",
       "    </tr>\n",
       "    <tr>\n",
       "      <th>launched_at_hr</th>\n",
       "      <td>0.000801</td>\n",
       "      <td>0.001523</td>\n",
       "      <td>-0.003683</td>\n",
       "      <td>NaN</td>\n",
       "      <td>-0.042313</td>\n",
       "      <td>-0.005708</td>\n",
       "      <td>-0.000643</td>\n",
       "      <td>0.043216</td>\n",
       "      <td>-0.003047</td>\n",
       "      <td>-0.010116</td>\n",
       "      <td>...</td>\n",
       "      <td>0.674452</td>\n",
       "      <td>0.009515</td>\n",
       "      <td>0.007670</td>\n",
       "      <td>0.014815</td>\n",
       "      <td>0.102070</td>\n",
       "      <td>-0.012035</td>\n",
       "      <td>0.002964</td>\n",
       "      <td>0.018014</td>\n",
       "      <td>NaN</td>\n",
       "      <td>-0.010116</td>\n",
       "    </tr>\n",
       "    <tr>\n",
       "      <th>launched_at_dow</th>\n",
       "      <td>-0.002933</td>\n",
       "      <td>-0.000591</td>\n",
       "      <td>-0.024617</td>\n",
       "      <td>NaN</td>\n",
       "      <td>0.002506</td>\n",
       "      <td>-0.038449</td>\n",
       "      <td>-0.026087</td>\n",
       "      <td>0.002548</td>\n",
       "      <td>-0.024797</td>\n",
       "      <td>-0.013237</td>\n",
       "      <td>...</td>\n",
       "      <td>-0.070621</td>\n",
       "      <td>-0.011092</td>\n",
       "      <td>-0.022892</td>\n",
       "      <td>-0.023230</td>\n",
       "      <td>-0.016745</td>\n",
       "      <td>0.061944</td>\n",
       "      <td>-0.009512</td>\n",
       "      <td>-0.023546</td>\n",
       "      <td>NaN</td>\n",
       "      <td>-0.013237</td>\n",
       "    </tr>\n",
       "    <tr>\n",
       "      <th>launched_at_mo</th>\n",
       "      <td>-0.001432</td>\n",
       "      <td>-0.000324</td>\n",
       "      <td>0.000843</td>\n",
       "      <td>NaN</td>\n",
       "      <td>-0.013160</td>\n",
       "      <td>0.010517</td>\n",
       "      <td>-0.004126</td>\n",
       "      <td>-0.007672</td>\n",
       "      <td>-0.001427</td>\n",
       "      <td>-0.011367</td>\n",
       "      <td>...</td>\n",
       "      <td>-0.015182</td>\n",
       "      <td>-0.000509</td>\n",
       "      <td>0.594104</td>\n",
       "      <td>-0.078552</td>\n",
       "      <td>0.003721</td>\n",
       "      <td>-0.013946</td>\n",
       "      <td>0.674459</td>\n",
       "      <td>-0.092893</td>\n",
       "      <td>NaN</td>\n",
       "      <td>-0.011367</td>\n",
       "    </tr>\n",
       "    <tr>\n",
       "      <th>launched_at_yr</th>\n",
       "      <td>-0.000645</td>\n",
       "      <td>0.015870</td>\n",
       "      <td>0.021643</td>\n",
       "      <td>NaN</td>\n",
       "      <td>-0.197820</td>\n",
       "      <td>-0.046068</td>\n",
       "      <td>0.011345</td>\n",
       "      <td>-0.012098</td>\n",
       "      <td>0.017102</td>\n",
       "      <td>-0.142624</td>\n",
       "      <td>...</td>\n",
       "      <td>0.050398</td>\n",
       "      <td>0.001023</td>\n",
       "      <td>-0.092666</td>\n",
       "      <td>0.988157</td>\n",
       "      <td>-0.005862</td>\n",
       "      <td>0.017636</td>\n",
       "      <td>-0.082638</td>\n",
       "      <td>0.975030</td>\n",
       "      <td>NaN</td>\n",
       "      <td>-0.142624</td>\n",
       "    </tr>\n",
       "    <tr>\n",
       "      <th>deadline_hr</th>\n",
       "      <td>0.000490</td>\n",
       "      <td>0.003298</td>\n",
       "      <td>-0.014693</td>\n",
       "      <td>NaN</td>\n",
       "      <td>-0.123715</td>\n",
       "      <td>-0.033307</td>\n",
       "      <td>-0.018297</td>\n",
       "      <td>0.085879</td>\n",
       "      <td>-0.014881</td>\n",
       "      <td>-0.070798</td>\n",
       "      <td>...</td>\n",
       "      <td>1.000000</td>\n",
       "      <td>0.033821</td>\n",
       "      <td>-0.005344</td>\n",
       "      <td>0.047921</td>\n",
       "      <td>0.117012</td>\n",
       "      <td>-0.003228</td>\n",
       "      <td>-0.012295</td>\n",
       "      <td>0.053152</td>\n",
       "      <td>NaN</td>\n",
       "      <td>-0.070798</td>\n",
       "    </tr>\n",
       "    <tr>\n",
       "      <th>deadline_dow</th>\n",
       "      <td>-0.001754</td>\n",
       "      <td>-0.003937</td>\n",
       "      <td>0.003431</td>\n",
       "      <td>NaN</td>\n",
       "      <td>-0.010192</td>\n",
       "      <td>-0.015661</td>\n",
       "      <td>0.002753</td>\n",
       "      <td>0.008743</td>\n",
       "      <td>0.003862</td>\n",
       "      <td>-0.027505</td>\n",
       "      <td>...</td>\n",
       "      <td>0.033821</td>\n",
       "      <td>1.000000</td>\n",
       "      <td>-0.006132</td>\n",
       "      <td>0.002103</td>\n",
       "      <td>0.002208</td>\n",
       "      <td>-0.034785</td>\n",
       "      <td>-0.000036</td>\n",
       "      <td>0.002221</td>\n",
       "      <td>NaN</td>\n",
       "      <td>-0.027505</td>\n",
       "    </tr>\n",
       "    <tr>\n",
       "      <th>deadline_mo</th>\n",
       "      <td>0.001223</td>\n",
       "      <td>-0.001196</td>\n",
       "      <td>0.001600</td>\n",
       "      <td>NaN</td>\n",
       "      <td>-0.004032</td>\n",
       "      <td>0.014363</td>\n",
       "      <td>0.000987</td>\n",
       "      <td>0.008908</td>\n",
       "      <td>0.001114</td>\n",
       "      <td>-0.002189</td>\n",
       "      <td>...</td>\n",
       "      <td>-0.005344</td>\n",
       "      <td>-0.006132</td>\n",
       "      <td>1.000000</td>\n",
       "      <td>-0.162052</td>\n",
       "      <td>0.013039</td>\n",
       "      <td>-0.008657</td>\n",
       "      <td>0.338586</td>\n",
       "      <td>-0.052934</td>\n",
       "      <td>NaN</td>\n",
       "      <td>-0.002189</td>\n",
       "    </tr>\n",
       "    <tr>\n",
       "      <th>deadline_yr</th>\n",
       "      <td>-0.001003</td>\n",
       "      <td>0.016484</td>\n",
       "      <td>0.021726</td>\n",
       "      <td>NaN</td>\n",
       "      <td>-0.198666</td>\n",
       "      <td>-0.047078</td>\n",
       "      <td>0.010513</td>\n",
       "      <td>-0.015678</td>\n",
       "      <td>0.016886</td>\n",
       "      <td>-0.146228</td>\n",
       "      <td>...</td>\n",
       "      <td>0.047921</td>\n",
       "      <td>0.002103</td>\n",
       "      <td>-0.162052</td>\n",
       "      <td>1.000000</td>\n",
       "      <td>-0.007672</td>\n",
       "      <td>0.016788</td>\n",
       "      <td>-0.026364</td>\n",
       "      <td>0.965378</td>\n",
       "      <td>NaN</td>\n",
       "      <td>-0.146228</td>\n",
       "    </tr>\n",
       "    <tr>\n",
       "      <th>created_at_hr</th>\n",
       "      <td>-0.001734</td>\n",
       "      <td>-0.001331</td>\n",
       "      <td>0.000788</td>\n",
       "      <td>NaN</td>\n",
       "      <td>-0.045797</td>\n",
       "      <td>0.020622</td>\n",
       "      <td>0.001806</td>\n",
       "      <td>0.054158</td>\n",
       "      <td>0.002173</td>\n",
       "      <td>0.020330</td>\n",
       "      <td>...</td>\n",
       "      <td>0.117012</td>\n",
       "      <td>0.002208</td>\n",
       "      <td>0.013039</td>\n",
       "      <td>-0.007672</td>\n",
       "      <td>1.000000</td>\n",
       "      <td>-0.017693</td>\n",
       "      <td>-0.002758</td>\n",
       "      <td>-0.005414</td>\n",
       "      <td>NaN</td>\n",
       "      <td>0.020330</td>\n",
       "    </tr>\n",
       "    <tr>\n",
       "      <th>created_at_dow</th>\n",
       "      <td>0.000494</td>\n",
       "      <td>0.006647</td>\n",
       "      <td>-0.008555</td>\n",
       "      <td>NaN</td>\n",
       "      <td>0.005453</td>\n",
       "      <td>-0.016131</td>\n",
       "      <td>-0.004409</td>\n",
       "      <td>0.002064</td>\n",
       "      <td>-0.008357</td>\n",
       "      <td>-0.018291</td>\n",
       "      <td>...</td>\n",
       "      <td>-0.003228</td>\n",
       "      <td>-0.034785</td>\n",
       "      <td>-0.008657</td>\n",
       "      <td>0.016788</td>\n",
       "      <td>-0.017693</td>\n",
       "      <td>1.000000</td>\n",
       "      <td>-0.014506</td>\n",
       "      <td>0.018255</td>\n",
       "      <td>NaN</td>\n",
       "      <td>-0.018291</td>\n",
       "    </tr>\n",
       "    <tr>\n",
       "      <th>created_at_mo</th>\n",
       "      <td>-0.004499</td>\n",
       "      <td>0.000370</td>\n",
       "      <td>0.001407</td>\n",
       "      <td>NaN</td>\n",
       "      <td>-0.012779</td>\n",
       "      <td>0.007259</td>\n",
       "      <td>0.000202</td>\n",
       "      <td>-0.013459</td>\n",
       "      <td>-0.000554</td>\n",
       "      <td>-0.015445</td>\n",
       "      <td>...</td>\n",
       "      <td>-0.012295</td>\n",
       "      <td>-0.000036</td>\n",
       "      <td>0.338586</td>\n",
       "      <td>-0.026364</td>\n",
       "      <td>-0.002758</td>\n",
       "      <td>-0.014506</td>\n",
       "      <td>1.000000</td>\n",
       "      <td>-0.138077</td>\n",
       "      <td>NaN</td>\n",
       "      <td>-0.015445</td>\n",
       "    </tr>\n",
       "    <tr>\n",
       "      <th>created_at_yr</th>\n",
       "      <td>-0.001293</td>\n",
       "      <td>0.015454</td>\n",
       "      <td>0.017598</td>\n",
       "      <td>NaN</td>\n",
       "      <td>-0.203314</td>\n",
       "      <td>-0.056749</td>\n",
       "      <td>0.006193</td>\n",
       "      <td>-0.009976</td>\n",
       "      <td>0.012897</td>\n",
       "      <td>-0.149378</td>\n",
       "      <td>...</td>\n",
       "      <td>0.053152</td>\n",
       "      <td>0.002221</td>\n",
       "      <td>-0.052934</td>\n",
       "      <td>0.965378</td>\n",
       "      <td>-0.005414</td>\n",
       "      <td>0.018255</td>\n",
       "      <td>-0.138077</td>\n",
       "      <td>1.000000</td>\n",
       "      <td>NaN</td>\n",
       "      <td>-0.149378</td>\n",
       "    </tr>\n",
       "    <tr>\n",
       "      <th>count</th>\n",
       "      <td>NaN</td>\n",
       "      <td>NaN</td>\n",
       "      <td>NaN</td>\n",
       "      <td>NaN</td>\n",
       "      <td>NaN</td>\n",
       "      <td>NaN</td>\n",
       "      <td>NaN</td>\n",
       "      <td>NaN</td>\n",
       "      <td>NaN</td>\n",
       "      <td>NaN</td>\n",
       "      <td>...</td>\n",
       "      <td>NaN</td>\n",
       "      <td>NaN</td>\n",
       "      <td>NaN</td>\n",
       "      <td>NaN</td>\n",
       "      <td>NaN</td>\n",
       "      <td>NaN</td>\n",
       "      <td>NaN</td>\n",
       "      <td>NaN</td>\n",
       "      <td>NaN</td>\n",
       "      <td>NaN</td>\n",
       "    </tr>\n",
       "    <tr>\n",
       "      <th>success</th>\n",
       "      <td>-0.000266</td>\n",
       "      <td>-0.028857</td>\n",
       "      <td>0.098150</td>\n",
       "      <td>NaN</td>\n",
       "      <td>0.049079</td>\n",
       "      <td>0.286664</td>\n",
       "      <td>0.108666</td>\n",
       "      <td>0.001774</td>\n",
       "      <td>0.096416</td>\n",
       "      <td>1.000000</td>\n",
       "      <td>...</td>\n",
       "      <td>-0.070798</td>\n",
       "      <td>-0.027505</td>\n",
       "      <td>-0.002189</td>\n",
       "      <td>-0.146228</td>\n",
       "      <td>0.020330</td>\n",
       "      <td>-0.018291</td>\n",
       "      <td>-0.015445</td>\n",
       "      <td>-0.149378</td>\n",
       "      <td>NaN</td>\n",
       "      <td>1.000000</td>\n",
       "    </tr>\n",
       "  </tbody>\n",
       "</table>\n",
       "<p>24 rows × 24 columns</p>\n",
       "</div>"
      ],
      "text/plain": [
       "                              id      goal   pledged  disable_communication  \\\n",
       "id                      1.000000  0.001855  0.001044                    NaN   \n",
       "goal                    0.001855  1.000000  0.009500                    NaN   \n",
       "pledged                 0.001044  0.009500  1.000000                    NaN   \n",
       "disable_communication        NaN       NaN       NaN                    NaN   \n",
       "currency_trailing_code  0.002864 -0.000260  0.017319                    NaN   \n",
       "staff_pick              0.000903 -0.006602  0.135431                    NaN   \n",
       "backers_count           0.001129  0.007792  0.732125                    NaN   \n",
       "static_usd_rate        -0.002425 -0.012211 -0.033868                    NaN   \n",
       "usd_pledged             0.000745  0.008937  0.979246                    NaN   \n",
       "spotlight              -0.000266 -0.028857  0.098150                    NaN   \n",
       "launched_at_hr          0.000801  0.001523 -0.003683                    NaN   \n",
       "launched_at_dow        -0.002933 -0.000591 -0.024617                    NaN   \n",
       "launched_at_mo         -0.001432 -0.000324  0.000843                    NaN   \n",
       "launched_at_yr         -0.000645  0.015870  0.021643                    NaN   \n",
       "deadline_hr             0.000490  0.003298 -0.014693                    NaN   \n",
       "deadline_dow           -0.001754 -0.003937  0.003431                    NaN   \n",
       "deadline_mo             0.001223 -0.001196  0.001600                    NaN   \n",
       "deadline_yr            -0.001003  0.016484  0.021726                    NaN   \n",
       "created_at_hr          -0.001734 -0.001331  0.000788                    NaN   \n",
       "created_at_dow          0.000494  0.006647 -0.008555                    NaN   \n",
       "created_at_mo          -0.004499  0.000370  0.001407                    NaN   \n",
       "created_at_yr          -0.001293  0.015454  0.017598                    NaN   \n",
       "count                        NaN       NaN       NaN                    NaN   \n",
       "success                -0.000266 -0.028857  0.098150                    NaN   \n",
       "\n",
       "                        currency_trailing_code  staff_pick  backers_count  \\\n",
       "id                                    0.002864    0.000903       0.001129   \n",
       "goal                                 -0.000260   -0.006602       0.007792   \n",
       "pledged                               0.017319    0.135431       0.732125   \n",
       "disable_communication                      NaN         NaN            NaN   \n",
       "currency_trailing_code                1.000000    0.008817       0.010037   \n",
       "staff_pick                            0.008817    1.000000       0.148680   \n",
       "backers_count                         0.010037    0.148680       1.000000   \n",
       "static_usd_rate                      -0.725085    0.012244      -0.002236   \n",
       "usd_pledged                           0.008423    0.134698       0.749957   \n",
       "spotlight                             0.049079    0.286664       0.108666   \n",
       "launched_at_hr                       -0.042313   -0.005708      -0.000643   \n",
       "launched_at_dow                       0.002506   -0.038449      -0.026087   \n",
       "launched_at_mo                       -0.013160    0.010517      -0.004126   \n",
       "launched_at_yr                       -0.197820   -0.046068       0.011345   \n",
       "deadline_hr                          -0.123715   -0.033307      -0.018297   \n",
       "deadline_dow                         -0.010192   -0.015661       0.002753   \n",
       "deadline_mo                          -0.004032    0.014363       0.000987   \n",
       "deadline_yr                          -0.198666   -0.047078       0.010513   \n",
       "created_at_hr                        -0.045797    0.020622       0.001806   \n",
       "created_at_dow                        0.005453   -0.016131      -0.004409   \n",
       "created_at_mo                        -0.012779    0.007259       0.000202   \n",
       "created_at_yr                        -0.203314   -0.056749       0.006193   \n",
       "count                                      NaN         NaN            NaN   \n",
       "success                               0.049079    0.286664       0.108666   \n",
       "\n",
       "                        static_usd_rate  usd_pledged  spotlight    ...     \\\n",
       "id                            -0.002425     0.000745  -0.000266    ...      \n",
       "goal                          -0.012211     0.008937  -0.028857    ...      \n",
       "pledged                       -0.033868     0.979246   0.098150    ...      \n",
       "disable_communication               NaN          NaN        NaN    ...      \n",
       "currency_trailing_code        -0.725085     0.008423   0.049079    ...      \n",
       "staff_pick                     0.012244     0.134698   0.286664    ...      \n",
       "backers_count                 -0.002236     0.749957   0.108666    ...      \n",
       "static_usd_rate                1.000000    -0.001859   0.001774    ...      \n",
       "usd_pledged                   -0.001859     1.000000   0.096416    ...      \n",
       "spotlight                      0.001774     0.096416   1.000000    ...      \n",
       "launched_at_hr                 0.043216    -0.003047  -0.010116    ...      \n",
       "launched_at_dow                0.002548    -0.024797  -0.013237    ...      \n",
       "launched_at_mo                -0.007672    -0.001427  -0.011367    ...      \n",
       "launched_at_yr                -0.012098     0.017102  -0.142624    ...      \n",
       "deadline_hr                    0.085879    -0.014881  -0.070798    ...      \n",
       "deadline_dow                   0.008743     0.003862  -0.027505    ...      \n",
       "deadline_mo                    0.008908     0.001114  -0.002189    ...      \n",
       "deadline_yr                   -0.015678     0.016886  -0.146228    ...      \n",
       "created_at_hr                  0.054158     0.002173   0.020330    ...      \n",
       "created_at_dow                 0.002064    -0.008357  -0.018291    ...      \n",
       "created_at_mo                 -0.013459    -0.000554  -0.015445    ...      \n",
       "created_at_yr                 -0.009976     0.012897  -0.149378    ...      \n",
       "count                               NaN          NaN        NaN    ...      \n",
       "success                        0.001774     0.096416   1.000000    ...      \n",
       "\n",
       "                        deadline_hr  deadline_dow  deadline_mo  deadline_yr  \\\n",
       "id                         0.000490     -0.001754     0.001223    -0.001003   \n",
       "goal                       0.003298     -0.003937    -0.001196     0.016484   \n",
       "pledged                   -0.014693      0.003431     0.001600     0.021726   \n",
       "disable_communication           NaN           NaN          NaN          NaN   \n",
       "currency_trailing_code    -0.123715     -0.010192    -0.004032    -0.198666   \n",
       "staff_pick                -0.033307     -0.015661     0.014363    -0.047078   \n",
       "backers_count             -0.018297      0.002753     0.000987     0.010513   \n",
       "static_usd_rate            0.085879      0.008743     0.008908    -0.015678   \n",
       "usd_pledged               -0.014881      0.003862     0.001114     0.016886   \n",
       "spotlight                 -0.070798     -0.027505    -0.002189    -0.146228   \n",
       "launched_at_hr             0.674452      0.009515     0.007670     0.014815   \n",
       "launched_at_dow           -0.070621     -0.011092    -0.022892    -0.023230   \n",
       "launched_at_mo            -0.015182     -0.000509     0.594104    -0.078552   \n",
       "launched_at_yr             0.050398      0.001023    -0.092666     0.988157   \n",
       "deadline_hr                1.000000      0.033821    -0.005344     0.047921   \n",
       "deadline_dow               0.033821      1.000000    -0.006132     0.002103   \n",
       "deadline_mo               -0.005344     -0.006132     1.000000    -0.162052   \n",
       "deadline_yr                0.047921      0.002103    -0.162052     1.000000   \n",
       "created_at_hr              0.117012      0.002208     0.013039    -0.007672   \n",
       "created_at_dow            -0.003228     -0.034785    -0.008657     0.016788   \n",
       "created_at_mo             -0.012295     -0.000036     0.338586    -0.026364   \n",
       "created_at_yr              0.053152      0.002221    -0.052934     0.965378   \n",
       "count                           NaN           NaN          NaN          NaN   \n",
       "success                   -0.070798     -0.027505    -0.002189    -0.146228   \n",
       "\n",
       "                        created_at_hr  created_at_dow  created_at_mo  \\\n",
       "id                          -0.001734        0.000494      -0.004499   \n",
       "goal                        -0.001331        0.006647       0.000370   \n",
       "pledged                      0.000788       -0.008555       0.001407   \n",
       "disable_communication             NaN             NaN            NaN   \n",
       "currency_trailing_code      -0.045797        0.005453      -0.012779   \n",
       "staff_pick                   0.020622       -0.016131       0.007259   \n",
       "backers_count                0.001806       -0.004409       0.000202   \n",
       "static_usd_rate              0.054158        0.002064      -0.013459   \n",
       "usd_pledged                  0.002173       -0.008357      -0.000554   \n",
       "spotlight                    0.020330       -0.018291      -0.015445   \n",
       "launched_at_hr               0.102070       -0.012035       0.002964   \n",
       "launched_at_dow             -0.016745        0.061944      -0.009512   \n",
       "launched_at_mo               0.003721       -0.013946       0.674459   \n",
       "launched_at_yr              -0.005862        0.017636      -0.082638   \n",
       "deadline_hr                  0.117012       -0.003228      -0.012295   \n",
       "deadline_dow                 0.002208       -0.034785      -0.000036   \n",
       "deadline_mo                  0.013039       -0.008657       0.338586   \n",
       "deadline_yr                 -0.007672        0.016788      -0.026364   \n",
       "created_at_hr                1.000000       -0.017693      -0.002758   \n",
       "created_at_dow              -0.017693        1.000000      -0.014506   \n",
       "created_at_mo               -0.002758       -0.014506       1.000000   \n",
       "created_at_yr               -0.005414        0.018255      -0.138077   \n",
       "count                             NaN             NaN            NaN   \n",
       "success                      0.020330       -0.018291      -0.015445   \n",
       "\n",
       "                        created_at_yr  count   success  \n",
       "id                          -0.001293    NaN -0.000266  \n",
       "goal                         0.015454    NaN -0.028857  \n",
       "pledged                      0.017598    NaN  0.098150  \n",
       "disable_communication             NaN    NaN       NaN  \n",
       "currency_trailing_code      -0.203314    NaN  0.049079  \n",
       "staff_pick                  -0.056749    NaN  0.286664  \n",
       "backers_count                0.006193    NaN  0.108666  \n",
       "static_usd_rate             -0.009976    NaN  0.001774  \n",
       "usd_pledged                  0.012897    NaN  0.096416  \n",
       "spotlight                   -0.149378    NaN  1.000000  \n",
       "launched_at_hr               0.018014    NaN -0.010116  \n",
       "launched_at_dow             -0.023546    NaN -0.013237  \n",
       "launched_at_mo              -0.092893    NaN -0.011367  \n",
       "launched_at_yr               0.975030    NaN -0.142624  \n",
       "deadline_hr                  0.053152    NaN -0.070798  \n",
       "deadline_dow                 0.002221    NaN -0.027505  \n",
       "deadline_mo                 -0.052934    NaN -0.002189  \n",
       "deadline_yr                  0.965378    NaN -0.146228  \n",
       "created_at_hr               -0.005414    NaN  0.020330  \n",
       "created_at_dow               0.018255    NaN -0.018291  \n",
       "created_at_mo               -0.138077    NaN -0.015445  \n",
       "created_at_yr                1.000000    NaN -0.149378  \n",
       "count                             NaN    NaN       NaN  \n",
       "success                     -0.149378    NaN  1.000000  \n",
       "\n",
       "[24 rows x 24 columns]"
      ]
     },
     "execution_count": 29,
     "metadata": {},
     "output_type": "execute_result"
    }
   ],
   "source": [
    "df.corr()"
   ]
  },
  {
   "cell_type": "markdown",
   "metadata": {},
   "source": [
    "Let's check out categories"
   ]
  },
  {
   "cell_type": "code",
   "execution_count": 30,
   "metadata": {
    "collapsed": false
   },
   "outputs": [
    {
     "data": {
      "text/plain": [
       "{'color': 16743775,\n",
       " 'id': 285,\n",
       " 'name': 'Plays',\n",
       " 'parent_id': 17,\n",
       " 'position': 6,\n",
       " 'slug': 'theater/plays',\n",
       " 'urls': {'web': {'discover': 'http://www.kickstarter.com/discover/categories/theater/plays'}}}"
      ]
     },
     "execution_count": 30,
     "metadata": {},
     "output_type": "execute_result"
    }
   ],
   "source": [
    "df.category[20]"
   ]
  },
  {
   "cell_type": "code",
   "execution_count": 31,
   "metadata": {
    "collapsed": false
   },
   "outputs": [
    {
     "data": {
      "text/plain": [
       "'theater/plays'"
      ]
     },
     "execution_count": 31,
     "metadata": {},
     "output_type": "execute_result"
    }
   ],
   "source": [
    "df['category'][0]['slug']"
   ]
  },
  {
   "cell_type": "code",
   "execution_count": 32,
   "metadata": {
    "collapsed": false
   },
   "outputs": [
    {
     "name": "stderr",
     "output_type": "stream",
     "text": [
      "/Users/gmacmillan/anaconda3/lib/python3.6/site-packages/ipykernel/__main__.py:1: SettingWithCopyWarning: \n",
      "A value is trying to be set on a copy of a slice from a DataFrame.\n",
      "Try using .loc[row_indexer,col_indexer] = value instead\n",
      "\n",
      "See the caveats in the documentation: http://pandas.pydata.org/pandas-docs/stable/indexing.html#indexing-view-versus-copy\n",
      "  if __name__ == '__main__':\n",
      "/Users/gmacmillan/anaconda3/lib/python3.6/site-packages/ipykernel/__main__.py:2: SettingWithCopyWarning: \n",
      "A value is trying to be set on a copy of a slice from a DataFrame.\n",
      "Try using .loc[row_indexer,col_indexer] = value instead\n",
      "\n",
      "See the caveats in the documentation: http://pandas.pydata.org/pandas-docs/stable/indexing.html#indexing-view-versus-copy\n",
      "  from ipykernel import kernelapp as app\n"
     ]
    }
   ],
   "source": [
    "df['type'] = df['category'].apply(lambda x: x['slug'].split('/')[0])\n",
    "df['subtype'] = df['category'].apply(lambda x: x['slug'].split('/')[1])"
   ]
  },
  {
   "cell_type": "code",
   "execution_count": 33,
   "metadata": {
    "collapsed": false
   },
   "outputs": [
    {
     "data": {
      "text/plain": [
       "music           27146\n",
       "film & video    25831\n",
       "publishing      19010\n",
       "technology      17075\n",
       "art             16043\n",
       "games           11185\n",
       "food             9751\n",
       "fashion          8423\n",
       "design           6299\n",
       "comics           3989\n",
       "photography      3604\n",
       "crafts           3116\n",
       "journalism       2247\n",
       "theater          1674\n",
       "dance            1135\n",
       "Name: type, dtype: int64"
      ]
     },
     "execution_count": 33,
     "metadata": {},
     "output_type": "execute_result"
    }
   ],
   "source": [
    "df.type.value_counts()"
   ]
  },
  {
   "cell_type": "code",
   "execution_count": 34,
   "metadata": {
    "collapsed": false
   },
   "outputs": [
    {
     "data": {
      "text/plain": [
       "narrative film       3984\n",
       "webseries            3970\n",
       "country & folk       3914\n",
       "apps                 3880\n",
       "apparel              3870\n",
       "shorts               3870\n",
       "fiction              3869\n",
       "nonfiction           3861\n",
       "children's books     3857\n",
       "indie rock           3825\n",
       "video games          3741\n",
       "rock                 3698\n",
       "documentary          3697\n",
       "web                  3639\n",
       "tabletop games       3632\n",
       "product design       3589\n",
       "hip-hop              3160\n",
       "pop                  2801\n",
       "painting             2752\n",
       "public art           2674\n",
       "hardware             2645\n",
       "mixed media          2284\n",
       "illustration         2280\n",
       "software             2244\n",
       "classical music      2223\n",
       "art books            2147\n",
       "restaurants          2129\n",
       "animation            1932\n",
       "accessories          1901\n",
       "performance art      1865\n",
       "                     ... \n",
       "space exploration     195\n",
       "textiles              190\n",
       "fabrication tools     179\n",
       "movie theaters        177\n",
       "bacon                 169\n",
       "puzzles               169\n",
       "stationery            164\n",
       "printing              161\n",
       "makerspaces           158\n",
       "photo                 152\n",
       "video art             147\n",
       "knitting              146\n",
       "romance               141\n",
       "crochet               133\n",
       "workshops             128\n",
       "glass                 114\n",
       "latin                  97\n",
       "pet fashion            95\n",
       "embroidery             81\n",
       "typography             81\n",
       "translations           77\n",
       "pottery                71\n",
       "plays                  70\n",
       "quilts                 68\n",
       "weaving                63\n",
       "residencies            53\n",
       "ceramics               48\n",
       "letterpress            36\n",
       "chiptune               31\n",
       "taxidermy              10\n",
       "Name: subtype, dtype: int64"
      ]
     },
     "execution_count": 34,
     "metadata": {},
     "output_type": "execute_result"
    }
   ],
   "source": [
    "df.subtype.value_counts()"
   ]
  },
  {
   "cell_type": "code",
   "execution_count": 35,
   "metadata": {
    "collapsed": false
   },
   "outputs": [
    {
     "name": "stdout",
     "output_type": "stream",
     "text": [
      "Number of types:  15\n",
      "Number of subtypes:  143\n"
     ]
    }
   ],
   "source": [
    "print(\"Number of types: \", len(df.type.unique()))\n",
    "print(\"Number of subtypes: \", len(df.subtype.unique()))"
   ]
  },
  {
   "cell_type": "code",
   "execution_count": 36,
   "metadata": {
    "collapsed": false
   },
   "outputs": [
    {
     "data": {
      "text/plain": [
       "<matplotlib.axes._subplots.AxesSubplot at 0x132c5cb00>"
      ]
     },
     "execution_count": 36,
     "metadata": {},
     "output_type": "execute_result"
    },
    {
     "data": {
      "image/png": "[encoded data removed]",
      "text/plain": [
       "<matplotlib.figure.Figure at 0x12a8f1588>"
      ]
     },
     "metadata": {},
     "output_type": "display_data"
    }
   ],
   "source": [
    "fig, axes = plt.subplots(nrows=5, ncols=2)\n",
    "fig.subplots_adjust(hspace=1, wspace = 1)\n",
    "\n",
    "df['country'].value_counts().plot(kind = 'bar',ax=axes[0,0], title = 'Country Distribution', figsize=(15,15))\n",
    "df['currency'].value_counts().plot(kind = 'bar',ax=axes[0,1], title = 'Currency Distribution', figsize=(15,15))\n",
    "df['type'].value_counts().plot(kind = 'bar',ax=axes[1,0], title = 'Category Distribution', figsize=(15,15))\n",
    "df['deadline_dow'].value_counts().plot(kind = 'bar',ax=axes[1,1], title = 'Deadline Weekday Distribution', figsize=(15,15))\n",
    "df['created_at_dow'].value_counts().plot(kind = 'bar',ax=axes[2,0], title = 'Created At Weekday Distribution', figsize=(15,15))\n",
    "df['launched_at_dow'].value_counts().plot(kind = 'bar',ax=axes[2,1], title = 'Launched At Weekday Distribution', figsize=(15,15))\n",
    "df['deadline_hr'].value_counts().sort_index().plot(kind = 'bar',ax=axes[3,0], title = 'Deadline Hour Distribution', figsize=(15,15))\n",
    "df['created_at_hr'].value_counts().sort_index().plot(kind = 'bar',ax=axes[3,1], title = 'Created at Hour Distribution', figsize=(15,15))\n",
    "df['launched_at_hr'].value_counts().sort_index().plot(kind = 'bar',ax=axes[4,0], title = 'Launched at Hour Distribution', figsize=(15,15))\n",
    "df['success'].value_counts().plot(kind = 'bar',ax=axes[4,1], title = 'State Distribution', figsize=(15,15))"
   ]
  },
  {
   "cell_type": "markdown",
   "metadata": {},
   "source": [
    "Lets look at missing values briefly"
   ]
  },
  {
   "cell_type": "code",
   "execution_count": 37,
   "metadata": {
    "collapsed": false
   },
   "outputs": [
    {
     "data": {
      "text/plain": [
       "id                             0\n",
       "photo                          0\n",
       "name                           1\n",
       "blurb                          1\n",
       "goal                           0\n",
       "pledged                        0\n",
       "state                          0\n",
       "slug                           0\n",
       "disable_communication          0\n",
       "country                        0\n",
       "currency                       0\n",
       "currency_symbol                0\n",
       "currency_trailing_code         0\n",
       "deadline                       0\n",
       "state_changed_at               0\n",
       "created_at                     0\n",
       "launched_at                    0\n",
       "staff_pick                     0\n",
       "backers_count                  0\n",
       "static_usd_rate                0\n",
       "usd_pledged                    0\n",
       "creator                        0\n",
       "location                     593\n",
       "category                       0\n",
       "profile                        0\n",
       "spotlight                      0\n",
       "urls                           0\n",
       "source_url                     0\n",
       "friends                   156431\n",
       "is_starred                156431\n",
       "is_backing                156431\n",
       "permissions               156431\n",
       "launched_at_hr                 0\n",
       "launched_at_dow                0\n",
       "launched_at_mo                 0\n",
       "launched_at_yr                 0\n",
       "deadline_hr                    0\n",
       "deadline_dow                   0\n",
       "deadline_mo                    0\n",
       "deadline_yr                    0\n",
       "created_at_hr                  0\n",
       "created_at_dow                 0\n",
       "created_at_mo                  0\n",
       "created_at_yr                  0\n",
       "count                          0\n",
       "success                        0\n",
       "type                           0\n",
       "subtype                        0\n",
       "dtype: int64"
      ]
     },
     "execution_count": 37,
     "metadata": {},
     "output_type": "execute_result"
    }
   ],
   "source": [
    "df.apply(lambda x: np.sum(pd.isnull(x)))"
   ]
  },
  {
   "cell_type": "code",
   "execution_count": 38,
   "metadata": {
    "collapsed": false
   },
   "outputs": [
    {
     "data": {
      "text/html": [
       "<div>\n",
       "<table border=\"1\" class=\"dataframe\">\n",
       "  <thead>\n",
       "    <tr style=\"text-align: right;\">\n",
       "      <th>success</th>\n",
       "      <th>True</th>\n",
       "    </tr>\n",
       "    <tr>\n",
       "      <th>friends</th>\n",
       "      <th></th>\n",
       "    </tr>\n",
       "  </thead>\n",
       "  <tbody>\n",
       "    <tr>\n",
       "      <th>[]</th>\n",
       "      <td>97</td>\n",
       "    </tr>\n",
       "  </tbody>\n",
       "</table>\n",
       "</div>"
      ],
      "text/plain": [
       "success  True\n",
       "friends      \n",
       "[]         97"
      ]
     },
     "execution_count": 38,
     "metadata": {},
     "output_type": "execute_result"
    }
   ],
   "source": [
    "pd.crosstab(df.friends, df.success)"
   ]
  },
  {
   "cell_type": "code",
   "execution_count": 39,
   "metadata": {
    "collapsed": false
   },
   "outputs": [
    {
     "data": {
      "text/html": [
       "<div>\n",
       "<table border=\"1\" class=\"dataframe\">\n",
       "  <thead>\n",
       "    <tr style=\"text-align: right;\">\n",
       "      <th>success</th>\n",
       "      <th>True</th>\n",
       "    </tr>\n",
       "    <tr>\n",
       "      <th>is_backing</th>\n",
       "      <th></th>\n",
       "    </tr>\n",
       "  </thead>\n",
       "  <tbody>\n",
       "    <tr>\n",
       "      <th>False</th>\n",
       "      <td>97</td>\n",
       "    </tr>\n",
       "  </tbody>\n",
       "</table>\n",
       "</div>"
      ],
      "text/plain": [
       "success     True\n",
       "is_backing      \n",
       "False         97"
      ]
     },
     "execution_count": 39,
     "metadata": {},
     "output_type": "execute_result"
    }
   ],
   "source": [
    "pd.crosstab(df.is_backing, df.success)"
   ]
  },
  {
   "cell_type": "code",
   "execution_count": 40,
   "metadata": {
    "collapsed": false
   },
   "outputs": [
    {
     "data": {
      "text/html": [
       "<div>\n",
       "<table border=\"1\" class=\"dataframe\">\n",
       "  <thead>\n",
       "    <tr style=\"text-align: right;\">\n",
       "      <th>success</th>\n",
       "      <th>True</th>\n",
       "    </tr>\n",
       "    <tr>\n",
       "      <th>is_starred</th>\n",
       "      <th></th>\n",
       "    </tr>\n",
       "  </thead>\n",
       "  <tbody>\n",
       "    <tr>\n",
       "      <th>False</th>\n",
       "      <td>97</td>\n",
       "    </tr>\n",
       "  </tbody>\n",
       "</table>\n",
       "</div>"
      ],
      "text/plain": [
       "success     True\n",
       "is_starred      \n",
       "False         97"
      ]
     },
     "execution_count": 40,
     "metadata": {},
     "output_type": "execute_result"
    }
   ],
   "source": [
    "pd.crosstab(df.is_starred, df.success)"
   ]
  },
  {
   "cell_type": "code",
   "execution_count": 41,
   "metadata": {
    "collapsed": false
   },
   "outputs": [
    {
     "data": {
      "text/html": [
       "<div>\n",
       "<table border=\"1\" class=\"dataframe\">\n",
       "  <thead>\n",
       "    <tr style=\"text-align: right;\">\n",
       "      <th>success</th>\n",
       "      <th>True</th>\n",
       "    </tr>\n",
       "    <tr>\n",
       "      <th>permissions</th>\n",
       "      <th></th>\n",
       "    </tr>\n",
       "  </thead>\n",
       "  <tbody>\n",
       "    <tr>\n",
       "      <th>[]</th>\n",
       "      <td>97</td>\n",
       "    </tr>\n",
       "  </tbody>\n",
       "</table>\n",
       "</div>"
      ],
      "text/plain": [
       "success      True\n",
       "permissions      \n",
       "[]             97"
      ]
     },
     "execution_count": 41,
     "metadata": {},
     "output_type": "execute_result"
    }
   ],
   "source": [
    "pd.crosstab(df.permissions, df.success)"
   ]
  },
  {
   "cell_type": "markdown",
   "metadata": {},
   "source": [
    "Out of campaigns with success = true, 97 have non-null values in the friends, is_backing, is_starred and permissions columns. The vast majority are nans and of those that are nans 83 have success = False. These columns are telling me absolutely nothing."
   ]
  },
  {
   "cell_type": "code",
   "execution_count": 42,
   "metadata": {
    "collapsed": false
   },
   "outputs": [
    {
     "name": "stderr",
     "output_type": "stream",
     "text": [
      "/Users/gmacmillan/anaconda3/lib/python3.6/site-packages/ipykernel/__main__.py:1: SettingWithCopyWarning: \n",
      "A value is trying to be set on a copy of a slice from a DataFrame\n",
      "\n",
      "See the caveats in the documentation: http://pandas.pydata.org/pandas-docs/stable/indexing.html#indexing-view-versus-copy\n",
      "  if __name__ == '__main__':\n"
     ]
    }
   ],
   "source": [
    "df.drop(['permissions', 'is_starred', 'is_backing', 'friends'], axis = 1, inplace = True)"
   ]
  },
  {
   "cell_type": "markdown",
   "metadata": {},
   "source": [
    "We already have a column with the country abreviation and for this case study I don't want to get any more granular than that. So I will ignore the location column for now."
   ]
  },
  {
   "cell_type": "code",
   "execution_count": 43,
   "metadata": {
    "collapsed": false
   },
   "outputs": [
    {
     "name": "stderr",
     "output_type": "stream",
     "text": [
      "/Users/gmacmillan/anaconda3/lib/python3.6/site-packages/ipykernel/__main__.py:1: SettingWithCopyWarning: \n",
      "A value is trying to be set on a copy of a slice from a DataFrame\n",
      "\n",
      "See the caveats in the documentation: http://pandas.pydata.org/pandas-docs/stable/indexing.html#indexing-view-versus-copy\n",
      "  if __name__ == '__main__':\n"
     ]
    }
   ],
   "source": [
    "df.drop(['location'], axis = 1, inplace = True)"
   ]
  },
  {
   "cell_type": "markdown",
   "metadata": {},
   "source": [
    "State_changed_at is column describing when the campaign changed state to either successful, failed, cancelled or suspended. Since this will not be known ahead of time for a given campaign, this is not a good datetime to use in the following look at the time differences between our dates.\n",
    "\n",
    "* creation and launch\n",
    "* launch and deadline"
   ]
  },
  {
   "cell_type": "code",
   "execution_count": 44,
   "metadata": {
    "collapsed": false
   },
   "outputs": [
    {
     "name": "stderr",
     "output_type": "stream",
     "text": [
      "/Users/gmacmillan/anaconda3/lib/python3.6/site-packages/ipykernel/__main__.py:1: SettingWithCopyWarning: \n",
      "A value is trying to be set on a copy of a slice from a DataFrame.\n",
      "Try using .loc[row_indexer,col_indexer] = value instead\n",
      "\n",
      "See the caveats in the documentation: http://pandas.pydata.org/pandas-docs/stable/indexing.html#indexing-view-versus-copy\n",
      "  if __name__ == '__main__':\n",
      "/Users/gmacmillan/anaconda3/lib/python3.6/site-packages/ipykernel/__main__.py:2: SettingWithCopyWarning: \n",
      "A value is trying to be set on a copy of a slice from a DataFrame.\n",
      "Try using .loc[row_indexer,col_indexer] = value instead\n",
      "\n",
      "See the caveats in the documentation: http://pandas.pydata.org/pandas-docs/stable/indexing.html#indexing-view-versus-copy\n",
      "  from ipykernel import kernelapp as app\n"
     ]
    }
   ],
   "source": [
    "df['launched-created'] = (df.launched_at - df.created_at).dt.components.days\n",
    "df['deadline-launched'] = (df.deadline - df.launched_at).dt.components.days"
   ]
  },
  {
   "cell_type": "code",
   "execution_count": 45,
   "metadata": {
    "collapsed": false
   },
   "outputs": [
    {
     "data": {
      "text/plain": [
       "count    156528.000000\n",
       "mean         42.657959\n",
       "std         107.894318\n",
       "min           0.000000\n",
       "25%           2.000000\n",
       "50%          10.000000\n",
       "75%          34.000000\n",
       "max        2233.000000\n",
       "Name: launched-created, dtype: float64"
      ]
     },
     "execution_count": 45,
     "metadata": {},
     "output_type": "execute_result"
    }
   ],
   "source": [
    "df['launched-created'].describe()"
   ]
  },
  {
   "cell_type": "code",
   "execution_count": 46,
   "metadata": {
    "collapsed": false
   },
   "outputs": [
    {
     "data": {
      "text/plain": [
       "10.0"
      ]
     },
     "execution_count": 46,
     "metadata": {},
     "output_type": "execute_result"
    }
   ],
   "source": [
    "df['launched-created'].median()"
   ]
  },
  {
   "cell_type": "code",
   "execution_count": 47,
   "metadata": {
    "collapsed": false
   },
   "outputs": [
    {
     "data": {
      "text/plain": [
       "count    156528.000000\n",
       "mean         33.398178\n",
       "std          12.278949\n",
       "min           1.000000\n",
       "25%          30.000000\n",
       "50%          30.000000\n",
       "75%          35.000000\n",
       "max          91.000000\n",
       "Name: deadline-launched, dtype: float64"
      ]
     },
     "execution_count": 47,
     "metadata": {},
     "output_type": "execute_result"
    }
   ],
   "source": [
    "df['deadline-launched'].describe()"
   ]
  },
  {
   "cell_type": "code",
   "execution_count": 48,
   "metadata": {
    "collapsed": false
   },
   "outputs": [
    {
     "data": {
      "text/plain": [
       "30.0"
      ]
     },
     "execution_count": 48,
     "metadata": {},
     "output_type": "execute_result"
    }
   ],
   "source": [
    "df['deadline-launched'].median()"
   ]
  },
  {
   "cell_type": "code",
   "execution_count": 49,
   "metadata": {
    "collapsed": false
   },
   "outputs": [
    {
     "data": {
      "text/plain": [
       "<matplotlib.axes._subplots.AxesSubplot at 0x132c2fbe0>"
      ]
     },
     "execution_count": 49,
     "metadata": {},
     "output_type": "execute_result"
    },
    {
     "data": {
      "image/png": "[encoded data removed]",
      "text/plain": [
       "<matplotlib.figure.Figure at 0x13b912a58>"
      ]
     },
     "metadata": {},
     "output_type": "display_data"
    }
   ],
   "source": [
    "df['launched-created'].hist(bins=50)"
   ]
  },
  {
   "cell_type": "code",
   "execution_count": 50,
   "metadata": {
    "collapsed": false
   },
   "outputs": [
    {
     "data": {
      "text/plain": [
       "<matplotlib.axes._subplots.AxesSubplot at 0x1391f0358>"
      ]
     },
     "execution_count": 50,
     "metadata": {},
     "output_type": "execute_result"
    },
    {
     "data": {
      "image/png": "[encoded data removed]",
      "text/plain": [
       "<matplotlib.figure.Figure at 0x137e60710>"
      ]
     },
     "metadata": {},
     "output_type": "display_data"
    }
   ],
   "source": [
    "df['deadline-launched'].hist(bins=50)"
   ]
  },
  {
   "cell_type": "code",
   "execution_count": 51,
   "metadata": {
    "collapsed": false
   },
   "outputs": [
    {
     "data": {
      "text/plain": [
       "<matplotlib.axes._subplots.AxesSubplot at 0x146ccebe0>"
      ]
     },
     "execution_count": 51,
     "metadata": {},
     "output_type": "execute_result"
    },
    {
     "data": {
      "image/png": "[encoded data removed]",
      "text/plain": [
       "<matplotlib.figure.Figure at 0x13b8fba90>"
      ]
     },
     "metadata": {},
     "output_type": "display_data"
    }
   ],
   "source": [
    "df.boxplot('launched-created', by='success')"
   ]
  },
  {
   "cell_type": "markdown",
   "metadata": {},
   "source": [
    "Let's perform a simple KS test designed to test a simple hypothesis P = P0 for a given specified distribution P0. In this case, the difference between distribution of succesful campaigns to unnsuccesful ones by metric of days between (deadline and launch) and (launch and created)."
   ]
  },
  {
   "cell_type": "code",
   "execution_count": 52,
   "metadata": {
    "collapsed": false
   },
   "outputs": [
    {
     "data": {
      "text/plain": [
       "Ks_2sampResult(statistic=0.16045392408816173, pvalue=0.0)"
      ]
     },
     "execution_count": 52,
     "metadata": {},
     "output_type": "execute_result"
    }
   ],
   "source": [
    "kstest_by(df['launched-created'], df.success)"
   ]
  },
  {
   "cell_type": "code",
   "execution_count": 53,
   "metadata": {
    "collapsed": false
   },
   "outputs": [
    {
     "data": {
      "text/plain": [
       "<matplotlib.axes._subplots.AxesSubplot at 0x1607299b0>"
      ]
     },
     "execution_count": 53,
     "metadata": {},
     "output_type": "execute_result"
    },
    {
     "data": {
      "image/png": "[encoded data removed]",
      "text/plain": [
       "<matplotlib.figure.Figure at 0x16072fc18>"
      ]
     },
     "metadata": {},
     "output_type": "display_data"
    }
   ],
   "source": [
    "df.boxplot('deadline-launched', by='success')"
   ]
  },
  {
   "cell_type": "code",
   "execution_count": 54,
   "metadata": {
    "collapsed": false
   },
   "outputs": [
    {
     "data": {
      "text/plain": [
       "Ks_2sampResult(statistic=0.087192928806330339, pvalue=2.5921327632263751e-258)"
      ]
     },
     "execution_count": 54,
     "metadata": {},
     "output_type": "execute_result"
    }
   ],
   "source": [
    "kstest_by(df['deadline-launched'], df.success)"
   ]
  },
  {
   "cell_type": "markdown",
   "metadata": {},
   "source": [
    "For now I will assume this is correct test to perform on this distribution. Though it is clear we grouped by day, thus discretizing our samples, I believe we can reject H0: of no difference between successfull campaign distributions of time intervals. Both of these columns may be important to our model."
   ]
  },
  {
   "cell_type": "markdown",
   "metadata": {},
   "source": [
    "## Funding goal"
   ]
  },
  {
   "cell_type": "code",
   "execution_count": 55,
   "metadata": {
    "collapsed": false
   },
   "outputs": [
    {
     "name": "stdout",
     "output_type": "stream",
     "text": [
      "There are 4550 unique funding goal values\n"
     ]
    }
   ],
   "source": [
    "print(\"There are %d unique funding goal values\" % len(df.goal.unique()))"
   ]
  },
  {
   "cell_type": "code",
   "execution_count": 56,
   "metadata": {
    "collapsed": false
   },
   "outputs": [
    {
     "data": {
      "text/plain": [
       "count    1.565280e+05\n",
       "mean     4.467307e+04\n",
       "std      1.108518e+06\n",
       "min      1.000000e-02\n",
       "25%      2.000000e+03\n",
       "50%      5.000000e+03\n",
       "75%      1.500000e+04\n",
       "max      1.000000e+08\n",
       "Name: goal, dtype: float64"
      ]
     },
     "execution_count": 56,
     "metadata": {},
     "output_type": "execute_result"
    }
   ],
   "source": [
    "df.goal.describe()"
   ]
  },
  {
   "cell_type": "code",
   "execution_count": 57,
   "metadata": {
    "collapsed": false
   },
   "outputs": [
    {
     "data": {
      "text/plain": [
       "5000.0"
      ]
     },
     "execution_count": 57,
     "metadata": {},
     "output_type": "execute_result"
    }
   ],
   "source": [
    "df.goal.median()"
   ]
  },
  {
   "cell_type": "markdown",
   "metadata": {},
   "source": [
    "As expected this distribution is highly skewed."
   ]
  },
  {
   "cell_type": "code",
   "execution_count": 58,
   "metadata": {
    "collapsed": false
   },
   "outputs": [
    {
     "data": {
      "text/plain": [
       "Ks_2sampResult(statistic=0.17193035531252077, pvalue=0.0)"
      ]
     },
     "execution_count": 58,
     "metadata": {},
     "output_type": "execute_result"
    }
   ],
   "source": [
    "kstest_by(df['goal'], df.success)"
   ]
  },
  {
   "cell_type": "markdown",
   "metadata": {},
   "source": [
    "Looks like this is the same result as above"
   ]
  },
  {
   "cell_type": "code",
   "execution_count": 59,
   "metadata": {
    "collapsed": false
   },
   "outputs": [
    {
     "data": {
      "text/plain": [
       "count    156528.000000\n",
       "mean          1.027985\n",
       "std           0.192930\n",
       "min           0.045635\n",
       "25%           1.000000\n",
       "50%           1.000000\n",
       "75%           1.000000\n",
       "max           1.716408\n",
       "Name: static_usd_rate, dtype: float64"
      ]
     },
     "execution_count": 59,
     "metadata": {},
     "output_type": "execute_result"
    }
   ],
   "source": [
    "df.static_usd_rate.describe()"
   ]
  },
  {
   "cell_type": "code",
   "execution_count": 60,
   "metadata": {
    "collapsed": false
   },
   "outputs": [
    {
     "data": {
      "text/plain": [
       "Ks_2sampResult(statistic=0.032825627899354282, pvalue=5.6299438965872303e-37)"
      ]
     },
     "execution_count": 60,
     "metadata": {},
     "output_type": "execute_result"
    }
   ],
   "source": [
    "kstest_by(df['static_usd_rate'], df.success)"
   ]
  },
  {
   "cell_type": "markdown",
   "metadata": {},
   "source": [
    "I'm guessing this is some kind of exchange rate that is set, I'm assuming, at creation of project. This may be important"
   ]
  },
  {
   "cell_type": "code",
   "execution_count": 61,
   "metadata": {
    "collapsed": false
   },
   "outputs": [
    {
     "data": {
      "text/plain": [
       "count    1.565280e+05\n",
       "mean     1.239698e+04\n",
       "std      1.223180e+05\n",
       "min      0.000000e+00\n",
       "25%      5.000000e+01\n",
       "50%      1.057000e+03\n",
       "75%      5.505000e+03\n",
       "max      2.033899e+07\n",
       "Name: usd_pledged, dtype: float64"
      ]
     },
     "execution_count": 61,
     "metadata": {},
     "output_type": "execute_result"
    }
   ],
   "source": [
    "df.usd_pledged.describe()"
   ]
  },
  {
   "cell_type": "markdown",
   "metadata": {},
   "source": [
    "Pledged and usd_pledged is a feature that will not be available at prediction time and should therefore be left out of the modeling component. Let's look into the time components of the created, launched and deadline timestamps a bit more."
   ]
  },
  {
   "cell_type": "code",
   "execution_count": 80,
   "metadata": {
    "collapsed": false
   },
   "outputs": [
    {
     "data": {
      "text/plain": [
       "<matplotlib.text.Text at 0x147d240b8>"
      ]
     },
     "execution_count": 80,
     "metadata": {},
     "output_type": "execute_result"
    },
    {
     "data": {
      "image/png": "[encoded data removed]",
      "text/plain": [
       "<matplotlib.figure.Figure at 0x148f6cc88>"
      ]
     },
     "metadata": {},
     "output_type": "display_data"
    }
   ],
   "source": [
    "fig, axes = plt.subplots(nrows=3, ncols=2, figsize=(15,15))\n",
    "fig.subplots_adjust(hspace=1, wspace = 1)\n",
    "\n",
    "sns.countplot(x=\"launched_at_hr\", hue=\"success\", data=df, ax=axes[0, 0]).set_title('Launched at Hour Distribution')\n",
    "sns.countplot(x=\"created_at_hr\", hue=\"success\", data=df, ax=axes[1, 0]).set_title('Created at Hour Distribution')\n",
    "sns.countplot(x=\"deadline_hr\", hue=\"success\", data=df, ax=axes[2, 0]).set_title('Deadline Hour Distribution')\n",
    "sns.countplot(x=\"launched_at_dow\", hue=\"success\", data=df, ax=axes[0, 1]).set_title('Launched at weekday Distribution')\n",
    "sns.countplot(x=\"created_at_dow\", hue=\"success\", data=df, ax=axes[1, 1]).set_title('Created at weekday Distribution')\n",
    "sns.countplot(x=\"deadline_dow\", hue=\"success\", data=df, ax=axes[2, 1]).set_title('Deadline weekday Distribution')"
   ]
  },
  {
   "cell_type": "markdown",
   "metadata": {},
   "source": [
    "From this data we an see somewhat of a difference between success and failure in the hour distributions. I think it's possible we can use these effects. Let's try to get the text feature lengths as well:"
   ]
  },
  {
   "cell_type": "code",
   "execution_count": 86,
   "metadata": {
    "collapsed": false
   },
   "outputs": [],
   "source": [
    "cleaner = CleanTextTransformer()"
   ]
  },
  {
   "cell_type": "code",
   "execution_count": 89,
   "metadata": {
    "collapsed": false
   },
   "outputs": [],
   "source": [
    "df['name'] = cleaner.fit_transform(df['name'])\n",
    "df['blurb'] = cleaner.fit_transform(df['blurb'])"
   ]
  },
  {
   "cell_type": "code",
   "execution_count": 90,
   "metadata": {
    "collapsed": false
   },
   "outputs": [],
   "source": [
    "df['name_len'] = df.name.apply(lambda x: len(x))\n",
    "df['blurb_len'] = df.blurb.apply(lambda x: len(x))"
   ]
  },
  {
   "cell_type": "code",
   "execution_count": 100,
   "metadata": {
    "collapsed": false
   },
   "outputs": [
    {
     "data": {
      "text/plain": [
       "array([<matplotlib.axes._subplots.AxesSubplot object at 0x13ce1cf98>,\n",
       "       <matplotlib.axes._subplots.AxesSubplot object at 0x1294529e8>], dtype=object)"
      ]
     },
     "execution_count": 100,
     "metadata": {},
     "output_type": "execute_result"
    },
    {
     "data": {
      "image/png": "[encoded data removed]",
      "text/plain": [
       "<matplotlib.figure.Figure at 0x136aa1f60>"
      ]
     },
     "metadata": {},
     "output_type": "display_data"
    }
   ],
   "source": [
    "df.name_len.hist(bins=20, histtype='bar', by=df.success, stacked=True)"
   ]
  },
  {
   "cell_type": "code",
   "execution_count": 101,
   "metadata": {
    "collapsed": false
   },
   "outputs": [
    {
     "data": {
      "text/plain": [
       "array([<matplotlib.axes._subplots.AxesSubplot object at 0x13baf0588>,\n",
       "       <matplotlib.axes._subplots.AxesSubplot object at 0x12fe244e0>], dtype=object)"
      ]
     },
     "execution_count": 101,
     "metadata": {},
     "output_type": "execute_result"
    },
    {
     "data": {
      "image/png": "[encoded data removed]",
      "text/plain": [
       "<matplotlib.figure.Figure at 0x1154fd588>"
      ]
     },
     "metadata": {},
     "output_type": "display_data"
    }
   ],
   "source": [
    "df.blurb_len.hist(bins=20, histtype='bar', by=df.success, stacked=True)"
   ]
  },
  {
   "cell_type": "markdown",
   "metadata": {},
   "source": [
    "Neat!"
   ]
  },
  {
   "cell_type": "code",
   "execution_count": null,
   "metadata": {
    "collapsed": true
   },
   "outputs": [],
   "source": []
  }
 ],
 "metadata": {
  "kernelspec": {
   "display_name": "Python 3",
   "language": "python",
   "name": "python3"
  },
  "language_info": {
   "codemirror_mode": {
    "name": "ipython",
    "version": 3
   },
   "file_extension": ".py",
   "mimetype": "text/x-python",
   "name": "python",
   "nbconvert_exporter": "python",
   "pygments_lexer": "ipython3",
   "version": "3.6.0"
  }
 },
 "nbformat": 4,
 "nbformat_minor": 2
}
