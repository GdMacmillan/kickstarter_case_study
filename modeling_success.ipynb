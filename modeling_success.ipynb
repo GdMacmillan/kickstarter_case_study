{
 "cells": [
  {
   "cell_type": "code",
   "execution_count": 88,
   "metadata": {
    "collapsed": true
   },
   "outputs": [],
   "source": [
    "# standard imports\n",
    "import datetime\n",
    "import os\n",
    "import sys\n",
    "\n",
    "from subprocess import check_output\n",
    "\n",
    "# third party imports\n",
    "import matplotlib.pyplot as plt # MATLAB like plotting framework\n",
    "import numpy as np # linear algebra\n",
    "import pandas as pd # Data ETL, csv file I/O\n",
    "import sklearn.metrics as skm\n",
    "\n",
    "from sklearn.ensemble import RandomForestClassifier, GradientBoostingClassifier\n",
    "from sklearn.linear_model import LogisticRegression\n",
    "from sklearn.model_selection import GridSearchCV\n",
    "from sklearn.model_selection import train_test_split\n",
    "from sklearn.pipeline import Pipeline\n",
    "\n",
    "# src directory imports\n",
    "module_path = os.path.abspath(os.path.join('src'))\n",
    "if module_path not in sys.path:\n",
    "    sys.path.append(module_path)\n",
    "\n",
    "from src.helper_functions import load_dataset, plot_roc, plot_confusion_matrix, CleanTextTransformer\n",
    "\n",
    "%matplotlib inline\n",
    "pd.options.mode.chained_assignment = None  # default='warn'"
   ]
  },
  {
   "cell_type": "code",
   "execution_count": 2,
   "metadata": {
    "collapsed": true
   },
   "outputs": [],
   "source": [
    "df = load_dataset()"
   ]
  },
  {
   "cell_type": "code",
   "execution_count": 3,
   "metadata": {
    "collapsed": false
   },
   "outputs": [],
   "source": [
    "df['success'] = (df['state'] == 'successful').astype(int)\n",
    "test_live = df[df.state == 'live']\n",
    "df_all = df[df['state'].isin(['successful', 'failed'])]"
   ]
  },
  {
   "cell_type": "code",
   "execution_count": 4,
   "metadata": {
    "collapsed": false
   },
   "outputs": [
    {
     "data": {
      "text/html": [
       "<div>\n",
       "<table border=\"1\" class=\"dataframe\">\n",
       "  <thead>\n",
       "    <tr style=\"text-align: right;\">\n",
       "      <th></th>\n",
       "      <th>id</th>\n",
       "      <th>photo</th>\n",
       "      <th>name</th>\n",
       "      <th>blurb</th>\n",
       "      <th>goal</th>\n",
       "      <th>pledged</th>\n",
       "      <th>state</th>\n",
       "      <th>slug</th>\n",
       "      <th>disable_communication</th>\n",
       "      <th>country</th>\n",
       "      <th>...</th>\n",
       "      <th>category</th>\n",
       "      <th>profile</th>\n",
       "      <th>spotlight</th>\n",
       "      <th>urls</th>\n",
       "      <th>source_url</th>\n",
       "      <th>friends</th>\n",
       "      <th>is_starred</th>\n",
       "      <th>is_backing</th>\n",
       "      <th>permissions</th>\n",
       "      <th>success</th>\n",
       "    </tr>\n",
       "  </thead>\n",
       "  <tbody>\n",
       "    <tr>\n",
       "      <th>0</th>\n",
       "      <td>2081133073</td>\n",
       "      <td>{\"small\":\"https://ksr-ugc.imgix.net/assets/011...</td>\n",
       "      <td>Dracula: The Kisses... Help Scary Little Girls...</td>\n",
       "      <td>Dracula: The Kisses… is an all-female producti...</td>\n",
       "      <td>8000.0</td>\n",
       "      <td>2507.0</td>\n",
       "      <td>failed</td>\n",
       "      <td>dracula-the-kisses-help-scary-little-girls-fly...</td>\n",
       "      <td>False</td>\n",
       "      <td>GB</td>\n",
       "      <td>...</td>\n",
       "      <td>{'urls': {'web': {'discover': 'http://www.kick...</td>\n",
       "      <td>{'background_image_opacity': 0.8, 'should_show...</td>\n",
       "      <td>False</td>\n",
       "      <td>{\"web\":{\"project\":\"https://www.kickstarter.com...</td>\n",
       "      <td>https://www.kickstarter.com/discover/categorie...</td>\n",
       "      <td>NaN</td>\n",
       "      <td>NaN</td>\n",
       "      <td>NaN</td>\n",
       "      <td>NaN</td>\n",
       "      <td>0</td>\n",
       "    </tr>\n",
       "    <tr>\n",
       "      <th>1</th>\n",
       "      <td>262077000</td>\n",
       "      <td>{\"small\":\"https://ksr-ugc.imgix.net/assets/012...</td>\n",
       "      <td>Historial Women</td>\n",
       "      <td>The Power of Women and Their Contributions to ...</td>\n",
       "      <td>2000.0</td>\n",
       "      <td>19.0</td>\n",
       "      <td>failed</td>\n",
       "      <td>historial-women</td>\n",
       "      <td>False</td>\n",
       "      <td>US</td>\n",
       "      <td>...</td>\n",
       "      <td>{'urls': {'web': {'discover': 'http://www.kick...</td>\n",
       "      <td>{'background_image_opacity': 0.8, 'should_show...</td>\n",
       "      <td>False</td>\n",
       "      <td>{\"web\":{\"project\":\"https://www.kickstarter.com...</td>\n",
       "      <td>https://www.kickstarter.com/discover/categorie...</td>\n",
       "      <td>NaN</td>\n",
       "      <td>NaN</td>\n",
       "      <td>NaN</td>\n",
       "      <td>NaN</td>\n",
       "      <td>0</td>\n",
       "    </tr>\n",
       "    <tr>\n",
       "      <th>2</th>\n",
       "      <td>1541121253</td>\n",
       "      <td>{\"small\":\"https://ksr-ugc.imgix.net/assets/011...</td>\n",
       "      <td>The Sequel: a comedy with puppets</td>\n",
       "      <td>Our play The Sequel has a 2 week run at The Ca...</td>\n",
       "      <td>500.0</td>\n",
       "      <td>1.0</td>\n",
       "      <td>failed</td>\n",
       "      <td>the-sequel-a-comedy-with-puppets</td>\n",
       "      <td>False</td>\n",
       "      <td>GB</td>\n",
       "      <td>...</td>\n",
       "      <td>{'urls': {'web': {'discover': 'http://www.kick...</td>\n",
       "      <td>{'background_image_opacity': 0.8, 'should_show...</td>\n",
       "      <td>False</td>\n",
       "      <td>{\"web\":{\"project\":\"https://www.kickstarter.com...</td>\n",
       "      <td>https://www.kickstarter.com/discover/categorie...</td>\n",
       "      <td>NaN</td>\n",
       "      <td>NaN</td>\n",
       "      <td>NaN</td>\n",
       "      <td>NaN</td>\n",
       "      <td>0</td>\n",
       "    </tr>\n",
       "    <tr>\n",
       "      <th>3</th>\n",
       "      <td>489010822</td>\n",
       "      <td>{\"small\":\"https://ksr-ugc.imgix.net/assets/012...</td>\n",
       "      <td>Young blind actors have a life-changing opport...</td>\n",
       "      <td>Four blind youth from Los Angeles based Theatr...</td>\n",
       "      <td>15000.0</td>\n",
       "      <td>2095.0</td>\n",
       "      <td>failed</td>\n",
       "      <td>young-blind-actors-have-a-life-changing-opport...</td>\n",
       "      <td>False</td>\n",
       "      <td>US</td>\n",
       "      <td>...</td>\n",
       "      <td>{'urls': {'web': {'discover': 'http://www.kick...</td>\n",
       "      <td>{'background_image_opacity': 0.8, 'should_show...</td>\n",
       "      <td>False</td>\n",
       "      <td>{\"web\":{\"project\":\"https://www.kickstarter.com...</td>\n",
       "      <td>https://www.kickstarter.com/discover/categorie...</td>\n",
       "      <td>NaN</td>\n",
       "      <td>NaN</td>\n",
       "      <td>NaN</td>\n",
       "      <td>NaN</td>\n",
       "      <td>0</td>\n",
       "    </tr>\n",
       "    <tr>\n",
       "      <th>4</th>\n",
       "      <td>702028718</td>\n",
       "      <td>{\"small\":\"https://ksr-ugc.imgix.net/assets/011...</td>\n",
       "      <td>Drama School Fund</td>\n",
       "      <td>Raising money to send a young Actress to Drama...</td>\n",
       "      <td>10600.0</td>\n",
       "      <td>11.0</td>\n",
       "      <td>failed</td>\n",
       "      <td>drama-school-fund</td>\n",
       "      <td>False</td>\n",
       "      <td>GB</td>\n",
       "      <td>...</td>\n",
       "      <td>{'urls': {'web': {'discover': 'http://www.kick...</td>\n",
       "      <td>{'background_image_opacity': 0.8, 'should_show...</td>\n",
       "      <td>False</td>\n",
       "      <td>{\"web\":{\"project\":\"https://www.kickstarter.com...</td>\n",
       "      <td>https://www.kickstarter.com/discover/categorie...</td>\n",
       "      <td>NaN</td>\n",
       "      <td>NaN</td>\n",
       "      <td>NaN</td>\n",
       "      <td>NaN</td>\n",
       "      <td>0</td>\n",
       "    </tr>\n",
       "  </tbody>\n",
       "</table>\n",
       "<p>5 rows × 33 columns</p>\n",
       "</div>"
      ],
      "text/plain": [
       "           id                                              photo  \\\n",
       "0  2081133073  {\"small\":\"https://ksr-ugc.imgix.net/assets/011...   \n",
       "1   262077000  {\"small\":\"https://ksr-ugc.imgix.net/assets/012...   \n",
       "2  1541121253  {\"small\":\"https://ksr-ugc.imgix.net/assets/011...   \n",
       "3   489010822  {\"small\":\"https://ksr-ugc.imgix.net/assets/012...   \n",
       "4   702028718  {\"small\":\"https://ksr-ugc.imgix.net/assets/011...   \n",
       "\n",
       "                                                name  \\\n",
       "0  Dracula: The Kisses... Help Scary Little Girls...   \n",
       "1                                    Historial Women   \n",
       "2                  The Sequel: a comedy with puppets   \n",
       "3  Young blind actors have a life-changing opport...   \n",
       "4                                  Drama School Fund   \n",
       "\n",
       "                                               blurb     goal  pledged  \\\n",
       "0  Dracula: The Kisses… is an all-female producti...   8000.0   2507.0   \n",
       "1  The Power of Women and Their Contributions to ...   2000.0     19.0   \n",
       "2  Our play The Sequel has a 2 week run at The Ca...    500.0      1.0   \n",
       "3  Four blind youth from Los Angeles based Theatr...  15000.0   2095.0   \n",
       "4  Raising money to send a young Actress to Drama...  10600.0     11.0   \n",
       "\n",
       "    state                                               slug  \\\n",
       "0  failed  dracula-the-kisses-help-scary-little-girls-fly...   \n",
       "1  failed                                    historial-women   \n",
       "2  failed                   the-sequel-a-comedy-with-puppets   \n",
       "3  failed  young-blind-actors-have-a-life-changing-opport...   \n",
       "4  failed                                  drama-school-fund   \n",
       "\n",
       "  disable_communication country   ...     \\\n",
       "0                 False      GB   ...      \n",
       "1                 False      US   ...      \n",
       "2                 False      GB   ...      \n",
       "3                 False      US   ...      \n",
       "4                 False      GB   ...      \n",
       "\n",
       "                                            category  \\\n",
       "0  {'urls': {'web': {'discover': 'http://www.kick...   \n",
       "1  {'urls': {'web': {'discover': 'http://www.kick...   \n",
       "2  {'urls': {'web': {'discover': 'http://www.kick...   \n",
       "3  {'urls': {'web': {'discover': 'http://www.kick...   \n",
       "4  {'urls': {'web': {'discover': 'http://www.kick...   \n",
       "\n",
       "                                             profile spotlight  \\\n",
       "0  {'background_image_opacity': 0.8, 'should_show...     False   \n",
       "1  {'background_image_opacity': 0.8, 'should_show...     False   \n",
       "2  {'background_image_opacity': 0.8, 'should_show...     False   \n",
       "3  {'background_image_opacity': 0.8, 'should_show...     False   \n",
       "4  {'background_image_opacity': 0.8, 'should_show...     False   \n",
       "\n",
       "                                                urls  \\\n",
       "0  {\"web\":{\"project\":\"https://www.kickstarter.com...   \n",
       "1  {\"web\":{\"project\":\"https://www.kickstarter.com...   \n",
       "2  {\"web\":{\"project\":\"https://www.kickstarter.com...   \n",
       "3  {\"web\":{\"project\":\"https://www.kickstarter.com...   \n",
       "4  {\"web\":{\"project\":\"https://www.kickstarter.com...   \n",
       "\n",
       "                                          source_url  friends  is_starred  \\\n",
       "0  https://www.kickstarter.com/discover/categorie...      NaN         NaN   \n",
       "1  https://www.kickstarter.com/discover/categorie...      NaN         NaN   \n",
       "2  https://www.kickstarter.com/discover/categorie...      NaN         NaN   \n",
       "3  https://www.kickstarter.com/discover/categorie...      NaN         NaN   \n",
       "4  https://www.kickstarter.com/discover/categorie...      NaN         NaN   \n",
       "\n",
       "  is_backing  permissions  success  \n",
       "0        NaN          NaN        0  \n",
       "1        NaN          NaN        0  \n",
       "2        NaN          NaN        0  \n",
       "3        NaN          NaN        0  \n",
       "4        NaN          NaN        0  \n",
       "\n",
       "[5 rows x 33 columns]"
      ]
     },
     "execution_count": 4,
     "metadata": {},
     "output_type": "execute_result"
    }
   ],
   "source": [
    "df_all.head()"
   ]
  },
  {
   "cell_type": "markdown",
   "metadata": {},
   "source": [
    "drop _id_ since this column is not useful in modeling the response variable."
   ]
  },
  {
   "cell_type": "code",
   "execution_count": 5,
   "metadata": {
    "collapsed": false
   },
   "outputs": [],
   "source": [
    "df_all.drop(['id', 'backers_count', 'pledged', 'usd_pledged'], axis = 1, inplace = True)"
   ]
  },
  {
   "cell_type": "markdown",
   "metadata": {},
   "source": [
    "From EDA we figured out we wanted to convert unix time series to a datetime series. I will ignore the state_changed_at column and backers count column since this would not be available during campaign creation."
   ]
  },
  {
   "cell_type": "code",
   "execution_count": 6,
   "metadata": {
    "collapsed": false
   },
   "outputs": [],
   "source": [
    "df_all['launched_at'] = pd.to_datetime(df_all['launched_at'],unit='s')\n",
    "df_all['state_changed_at'] = pd.to_datetime(df_all['state_changed_at'],unit='s')\n",
    "df_all['created_at'] = pd.to_datetime(df_all['created_at'],unit='s')\n",
    "df_all['deadline'] = pd.to_datetime(df_all['deadline'],unit='s')"
   ]
  },
  {
   "cell_type": "markdown",
   "metadata": {},
   "source": [
    "Since we aren't interested in a longitudinal model at this time and are working with panel data, we will not be using these dateime features in the models. Instead we will use the difference in these datetime columns as continuous numeric values. "
   ]
  },
  {
   "cell_type": "code",
   "execution_count": 7,
   "metadata": {
    "collapsed": false
   },
   "outputs": [],
   "source": [
    "df_all['launched-created'] = (df_all.launched_at - df_all.created_at).dt.components.days\n",
    "df_all['deadline-launched'] = (df_all.deadline - df_all.launched_at).dt.components.days"
   ]
  },
  {
   "cell_type": "code",
   "execution_count": 8,
   "metadata": {
    "collapsed": false
   },
   "outputs": [],
   "source": [
    "datetime_columns = ['launched_at', 'created_at', 'deadline', 'state_changed_at']"
   ]
  },
  {
   "cell_type": "code",
   "execution_count": 9,
   "metadata": {
    "collapsed": false
   },
   "outputs": [
    {
     "data": {
      "text/plain": [
       "['goal', 'static_usd_rate', 'launched-created', 'deadline-launched']"
      ]
     },
     "execution_count": 9,
     "metadata": {},
     "output_type": "execute_result"
    }
   ],
   "source": [
    "baseline_features = df_all.describe().columns\n",
    "baseline_features = baseline_features.tolist()\n",
    "baseline_features = baseline_features[:]\n",
    "del baseline_features[baseline_features.index('success')]\n",
    "baseline_features"
   ]
  },
  {
   "cell_type": "code",
   "execution_count": 16,
   "metadata": {
    "collapsed": true
   },
   "outputs": [],
   "source": [
    "X = df_all.loc[:, baseline_features]\n",
    "y = df_all.success.astype('float')"
   ]
  },
  {
   "cell_type": "code",
   "execution_count": 17,
   "metadata": {
    "collapsed": false
   },
   "outputs": [],
   "source": [
    "X_train, X_test, y_train, y_test = train_test_split(X, y, test_size=0.20, random_state=67)"
   ]
  },
  {
   "cell_type": "markdown",
   "metadata": {},
   "source": [
    "## First Model: Logistic Regression"
   ]
  },
  {
   "cell_type": "code",
   "execution_count": 25,
   "metadata": {
    "collapsed": false
   },
   "outputs": [
    {
     "data": {
      "text/plain": [
       "LogisticRegression(C=1.0, class_weight='balanced', dual=False,\n",
       "          fit_intercept=True, intercept_scaling=1, max_iter=100,\n",
       "          multi_class='ovr', n_jobs=1, penalty='l2', random_state=None,\n",
       "          solver='liblinear', tol=0.0001, verbose=0, warm_start=False)"
      ]
     },
     "execution_count": 25,
     "metadata": {},
     "output_type": "execute_result"
    }
   ],
   "source": [
    "lr = LogisticRegression(class_weight='balanced')\n",
    "lr.fit(X_train, y_train)"
   ]
  },
  {
   "cell_type": "code",
   "execution_count": 26,
   "metadata": {
    "collapsed": false
   },
   "outputs": [
    {
     "data": {
      "text/plain": [
       "0.60199322813518175"
      ]
     },
     "execution_count": 26,
     "metadata": {},
     "output_type": "execute_result"
    }
   ],
   "source": [
    "lr.score(X_test,y_test)"
   ]
  },
  {
   "cell_type": "code",
   "execution_count": 29,
   "metadata": {
    "collapsed": false
   },
   "outputs": [
    {
     "name": "stderr",
     "output_type": "stream",
     "text": [
      "/Users/gmacmillan/anaconda3/lib/python3.6/site-packages/sklearn/linear_model/base.py:352: RuntimeWarning: overflow encountered in exp\n",
      "  np.exp(prob, prob)\n"
     ]
    }
   ],
   "source": [
    "v_probs = lr.predict_proba(X_test)[:, 1]"
   ]
  },
  {
   "cell_type": "code",
   "execution_count": 35,
   "metadata": {
    "collapsed": false
   },
   "outputs": [
    {
     "data": {
      "image/png": "[encoded data removed]",
      "text/plain": [
       "<matplotlib.figure.Figure at 0x12f83d198>"
      ]
     },
     "metadata": {},
     "output_type": "display_data"
    }
   ],
   "source": [
    "plot_roc(v_probs, y_test, \"ROC plot of campaign data\", \n",
    "         \"False Positive Rate (1 - Specificity)\", \"True Positive Rate (Sensitivity, Recall)\")"
   ]
  },
  {
   "cell_type": "code",
   "execution_count": 36,
   "metadata": {
    "collapsed": false
   },
   "outputs": [
    {
     "data": {
      "text/plain": [
       "0.5943849436302524"
      ]
     },
     "execution_count": 36,
     "metadata": {},
     "output_type": "execute_result"
    }
   ],
   "source": [
    "skm.roc_auc_score(y_test, lr.predict(X_test))"
   ]
  },
  {
   "cell_type": "markdown",
   "metadata": {},
   "source": [
    "Pretty terrible area under the curve."
   ]
  },
  {
   "cell_type": "code",
   "execution_count": 37,
   "metadata": {
    "collapsed": false
   },
   "outputs": [
    {
     "data": {
      "text/html": [
       "<div>\n",
       "<table border=\"1\" class=\"dataframe\">\n",
       "  <thead>\n",
       "    <tr style=\"text-align: right;\">\n",
       "      <th>col_0</th>\n",
       "      <th>0.0</th>\n",
       "      <th>1.0</th>\n",
       "    </tr>\n",
       "    <tr>\n",
       "      <th>success</th>\n",
       "      <th></th>\n",
       "      <th></th>\n",
       "    </tr>\n",
       "  </thead>\n",
       "  <tbody>\n",
       "    <tr>\n",
       "      <th>0.0</th>\n",
       "      <td>11947</td>\n",
       "      <td>4658</td>\n",
       "    </tr>\n",
       "    <tr>\n",
       "      <th>1.0</th>\n",
       "      <td>7802</td>\n",
       "      <td>6899</td>\n",
       "    </tr>\n",
       "  </tbody>\n",
       "</table>\n",
       "</div>"
      ],
      "text/plain": [
       "col_0      0.0   1.0\n",
       "success             \n",
       "0.0      11947  4658\n",
       "1.0       7802  6899"
      ]
     },
     "execution_count": 37,
     "metadata": {},
     "output_type": "execute_result"
    }
   ],
   "source": [
    "pd.crosstab(y_test, lr.predict(X_test))"
   ]
  },
  {
   "cell_type": "code",
   "execution_count": 40,
   "metadata": {
    "collapsed": false
   },
   "outputs": [
    {
     "name": "stdout",
     "output_type": "stream",
     "text": [
      "[[11947  4658]\n",
      " [ 7802  6899]]\n"
     ]
    },
    {
     "data": {
      "image/png": "[encoded data removed]",
      "text/plain": [
       "<matplotlib.figure.Figure at 0x11a97ebe0>"
      ]
     },
     "metadata": {},
     "output_type": "display_data"
    }
   ],
   "source": [
    "plot_confusion_matrix(lr, X_test, y_test)"
   ]
  },
  {
   "cell_type": "markdown",
   "metadata": {},
   "source": [
    "What are the beta coefficients?"
   ]
  },
  {
   "cell_type": "code",
   "execution_count": 46,
   "metadata": {
    "collapsed": false
   },
   "outputs": [
    {
     "name": "stdout",
     "output_type": "stream",
     "text": [
      "goal: -0.000010\n",
      "static_usd_rate: 0.000019\n",
      "launched-created: 0.001364\n",
      "deadline-launched: 0.000265\n"
     ]
    }
   ],
   "source": [
    "for name, coef in zip(baseline_features, lr.coef_[0]):\n",
    "    print(\"%s: %.6f\" % (name, coef))"
   ]
  },
  {
   "cell_type": "markdown",
   "metadata": {},
   "source": [
    "Compute the change in odds ratio from a one unit change in each feature:"
   ]
  },
  {
   "cell_type": "code",
   "execution_count": 49,
   "metadata": {
    "collapsed": false
   },
   "outputs": [
    {
     "name": "stdout",
     "output_type": "stream",
     "text": [
      "beta1: 0.99999\n",
      "beta2: 1.00002\n",
      "beta3: 1.00137\n",
      "beta4: 1.00027\n"
     ]
    }
   ],
   "source": [
    "for i, coef in enumerate(lr.coef_[0]):\n",
    "    print(\"beta%d: %.5f\" % (i + 1, np.exp(coef)))"
   ]
  },
  {
   "cell_type": "markdown",
   "metadata": {},
   "source": [
    "Example effects of the input variables according to this model are as follows:\n",
    "* Decreasing the goal amount by 1 unit increases the chance of a succesful campaign by a factor of 1/0.99999=1.00001...\n",
    "\n",
    "* Increasing the time between launch and creation by 1 unit increases the chance of getting in by a factor of 1.00137.\n",
    "\n"
   ]
  },
  {
   "cell_type": "markdown",
   "metadata": {},
   "source": [
    "This is a pretty crappy model maybe we can make it better by using feature engineering"
   ]
  },
  {
   "cell_type": "markdown",
   "metadata": {},
   "source": [
    "## Feature Engineering"
   ]
  },
  {
   "cell_type": "code",
   "execution_count": 53,
   "metadata": {
    "collapsed": false
   },
   "outputs": [],
   "source": [
    "cleaner = CleanTextTransformer()"
   ]
  },
  {
   "cell_type": "code",
   "execution_count": 71,
   "metadata": {
    "collapsed": false
   },
   "outputs": [],
   "source": [
    "df_all['name'] = cleaner.fit_transform(df_all['name'])\n",
    "df_all['blurb'] = cleaner.fit_transform(df_all['blurb'])"
   ]
  },
  {
   "cell_type": "code",
   "execution_count": 73,
   "metadata": {
    "collapsed": false
   },
   "outputs": [],
   "source": [
    "df_all['name_len'] = df_all.name.apply(lambda x: len(x))\n",
    "df_all['blurb_len'] = df_all.blurb.apply(lambda x: len(x))"
   ]
  },
  {
   "cell_type": "code",
   "execution_count": 75,
   "metadata": {
    "collapsed": false
   },
   "outputs": [
    {
     "data": {
      "text/plain": [
       "<matplotlib.axes._subplots.AxesSubplot at 0x160ab2b70>"
      ]
     },
     "execution_count": 75,
     "metadata": {},
     "output_type": "execute_result"
    },
    {
     "data": {
      "image/png": "[encoded data removed]",
      "text/plain": [
       "<matplotlib.figure.Figure at 0x1615f4780>"
      ]
     },
     "metadata": {},
     "output_type": "display_data"
    }
   ],
   "source": [
    "df_all.name_len.hist(bins=20)"
   ]
  },
  {
   "cell_type": "code",
   "execution_count": 76,
   "metadata": {
    "collapsed": false
   },
   "outputs": [
    {
     "data": {
      "text/plain": [
       "<matplotlib.axes._subplots.AxesSubplot at 0x1616645c0>"
      ]
     },
     "execution_count": 76,
     "metadata": {},
     "output_type": "execute_result"
    },
    {
     "data": {
      "image/png": "[encoded data removed]",
      "text/plain": [
       "<matplotlib.figure.Figure at 0x11a991cf8>"
      ]
     },
     "metadata": {},
     "output_type": "display_data"
    }
   ],
   "source": [
    "df_all.blurb_len.hist(bins=20)"
   ]
  },
  {
   "cell_type": "markdown",
   "metadata": {},
   "source": [
    "Neat!"
   ]
  },
  {
   "cell_type": "code",
   "execution_count": 102,
   "metadata": {
    "collapsed": false
   },
   "outputs": [
    {
     "data": {
      "text/plain": [
       "['goal',\n",
       " 'static_usd_rate',\n",
       " 'launched-created',\n",
       " 'deadline-launched',\n",
       " 'name_len',\n",
       " 'blurb_len']"
      ]
     },
     "execution_count": 102,
     "metadata": {},
     "output_type": "execute_result"
    }
   ],
   "source": [
    "features1 = df_all.describe().columns\n",
    "features1 = features1.tolist()\n",
    "features1 = features1[:]\n",
    "del features1[features1.index('success')]\n",
    "features1"
   ]
  },
  {
   "cell_type": "code",
   "execution_count": 109,
   "metadata": {
    "collapsed": true
   },
   "outputs": [],
   "source": [
    "X = df_all.loc[:, features1]\n",
    "y = df_all.success.astype('int')"
   ]
  },
  {
   "cell_type": "code",
   "execution_count": 110,
   "metadata": {
    "collapsed": true
   },
   "outputs": [],
   "source": [
    "X_train, X_test, y_train, y_test = train_test_split(X, y, test_size=0.20, random_state=67)"
   ]
  },
  {
   "cell_type": "code",
   "execution_count": 111,
   "metadata": {
    "collapsed": false
   },
   "outputs": [
    {
     "data": {
      "text/plain": [
       "LogisticRegression(C=1.0, class_weight='balanced', dual=False,\n",
       "          fit_intercept=True, intercept_scaling=1, max_iter=100,\n",
       "          multi_class='ovr', n_jobs=1, penalty='l2', random_state=None,\n",
       "          solver='liblinear', tol=0.0001, verbose=0, warm_start=False)"
      ]
     },
     "execution_count": 111,
     "metadata": {},
     "output_type": "execute_result"
    }
   ],
   "source": [
    "lr = LogisticRegression(class_weight='balanced')\n",
    "lr.fit(X_train, y_train)"
   ]
  },
  {
   "cell_type": "code",
   "execution_count": 112,
   "metadata": {
    "collapsed": false
   },
   "outputs": [
    {
     "data": {
      "text/plain": [
       "0.5977448412444899"
      ]
     },
     "execution_count": 112,
     "metadata": {},
     "output_type": "execute_result"
    }
   ],
   "source": [
    "lr.score(X_test,y_test)"
   ]
  },
  {
   "cell_type": "markdown",
   "metadata": {},
   "source": [
    "It definitely just got a little worse... hmmm let's see how a random forest does"
   ]
  },
  {
   "cell_type": "code",
   "execution_count": 113,
   "metadata": {
    "collapsed": false
   },
   "outputs": [
    {
     "data": {
      "text/plain": [
       "RandomForestClassifier(bootstrap=True, class_weight='balanced',\n",
       "            criterion='gini', max_depth=None, max_features='auto',\n",
       "            max_leaf_nodes=None, min_impurity_split=1e-07,\n",
       "            min_samples_leaf=1, min_samples_split=2,\n",
       "            min_weight_fraction_leaf=0.0, n_estimators=500, n_jobs=-1,\n",
       "            oob_score=False, random_state=None, verbose=0,\n",
       "            warm_start=False)"
      ]
     },
     "execution_count": 113,
     "metadata": {},
     "output_type": "execute_result"
    }
   ],
   "source": [
    "rfc = RandomForestClassifier(n_estimators=500, n_jobs=-1, class_weight='balanced')\n",
    "rfc.fit(X_train, y_train)"
   ]
  },
  {
   "cell_type": "code",
   "execution_count": 114,
   "metadata": {
    "collapsed": false
   },
   "outputs": [
    {
     "data": {
      "text/plain": [
       "0.63189165016290805"
      ]
     },
     "execution_count": 114,
     "metadata": {},
     "output_type": "execute_result"
    }
   ],
   "source": [
    "rfc.score(X_test, y_test)"
   ]
  },
  {
   "cell_type": "code",
   "execution_count": 115,
   "metadata": {
    "collapsed": false
   },
   "outputs": [],
   "source": [
    "df_all['launched_at_hr'] = df_all['launched_at'].apply(lambda x: x.hour) + 1\n",
    "df_all['launched_at_dow'] = df_all['launched_at'].apply(lambda x: x.dayofweek + 1) #Monday=1, Sunday=7\n",
    "df_all['launched_at_mo'] = df_all['launched_at'].apply(lambda x: x.month)\n",
    "df_all['launched_at_yr'] = df_all['launched_at'].apply(lambda x: x.year)"
   ]
  },
  {
   "cell_type": "code",
   "execution_count": 116,
   "metadata": {
    "collapsed": true
   },
   "outputs": [],
   "source": [
    "df_all['deadline_hr'] = df_all['deadline'].apply(lambda x: x.hour) + 1\n",
    "df_all['deadline_dow'] = df_all['deadline'].apply(lambda x: x.dayofweek + 1) #Monday=1, Sunday=7\n",
    "df_all['deadline_mo'] = df_all['deadline'].apply(lambda x: x.month)\n",
    "df_all['deadline_yr'] = df_all['deadline'].apply(lambda x: x.year)"
   ]
  },
  {
   "cell_type": "code",
   "execution_count": 117,
   "metadata": {
    "collapsed": true
   },
   "outputs": [],
   "source": [
    "df_all['created_at_hr'] = df_all['created_at'].apply(lambda x: x.hour) + 1\n",
    "df_all['created_at_dow'] = df_all['created_at'].apply(lambda x: x.dayofweek + 1) #Monday=1, Sunday=7\n",
    "df_all['created_at_mo'] = df_all['created_at'].apply(lambda x: x.month)\n",
    "df_all['created_at_yr'] = df_all['created_at'].apply(lambda x: x.year)"
   ]
  },
  {
   "cell_type": "code",
   "execution_count": 118,
   "metadata": {
    "collapsed": false
   },
   "outputs": [
    {
     "data": {
      "text/html": [
       "<div>\n",
       "<table border=\"1\" class=\"dataframe\">\n",
       "  <thead>\n",
       "    <tr style=\"text-align: right;\">\n",
       "      <th></th>\n",
       "      <th>photo</th>\n",
       "      <th>name</th>\n",
       "      <th>blurb</th>\n",
       "      <th>goal</th>\n",
       "      <th>state</th>\n",
       "      <th>slug</th>\n",
       "      <th>disable_communication</th>\n",
       "      <th>country</th>\n",
       "      <th>currency</th>\n",
       "      <th>currency_symbol</th>\n",
       "      <th>...</th>\n",
       "      <th>launched_at_mo</th>\n",
       "      <th>launched_at_yr</th>\n",
       "      <th>deadline_hr</th>\n",
       "      <th>deadline_dow</th>\n",
       "      <th>deadline_mo</th>\n",
       "      <th>deadline_yr</th>\n",
       "      <th>created_at_hr</th>\n",
       "      <th>created_at_dow</th>\n",
       "      <th>created_at_mo</th>\n",
       "      <th>created_at_yr</th>\n",
       "    </tr>\n",
       "  </thead>\n",
       "  <tbody>\n",
       "    <tr>\n",
       "      <th>0</th>\n",
       "      <td>{\"small\":\"https://ksr-ugc.imgix.net/assets/011...</td>\n",
       "      <td>dracula: kisses... help scary little girls fly...</td>\n",
       "      <td>dracula: kisses… all-female production dracula...</td>\n",
       "      <td>8000.0</td>\n",
       "      <td>failed</td>\n",
       "      <td>dracula-the-kisses-help-scary-little-girls-fly...</td>\n",
       "      <td>False</td>\n",
       "      <td>GB</td>\n",
       "      <td>GBP</td>\n",
       "      <td>£</td>\n",
       "      <td>...</td>\n",
       "      <td>9</td>\n",
       "      <td>2014</td>\n",
       "      <td>17</td>\n",
       "      <td>5</td>\n",
       "      <td>10</td>\n",
       "      <td>2014</td>\n",
       "      <td>17</td>\n",
       "      <td>1</td>\n",
       "      <td>8</td>\n",
       "      <td>2014</td>\n",
       "    </tr>\n",
       "    <tr>\n",
       "      <th>1</th>\n",
       "      <td>{\"small\":\"https://ksr-ugc.imgix.net/assets/012...</td>\n",
       "      <td>historial women</td>\n",
       "      <td>power women contributions world</td>\n",
       "      <td>2000.0</td>\n",
       "      <td>failed</td>\n",
       "      <td>historial-women</td>\n",
       "      <td>False</td>\n",
       "      <td>US</td>\n",
       "      <td>USD</td>\n",
       "      <td>$</td>\n",
       "      <td>...</td>\n",
       "      <td>10</td>\n",
       "      <td>2015</td>\n",
       "      <td>21</td>\n",
       "      <td>6</td>\n",
       "      <td>12</td>\n",
       "      <td>2015</td>\n",
       "      <td>20</td>\n",
       "      <td>6</td>\n",
       "      <td>10</td>\n",
       "      <td>2015</td>\n",
       "    </tr>\n",
       "    <tr>\n",
       "      <th>2</th>\n",
       "      <td>{\"small\":\"https://ksr-ugc.imgix.net/assets/011...</td>\n",
       "      <td>sequel: comedy puppets</td>\n",
       "      <td>play sequel 2 week run camden fringe. it's com...</td>\n",
       "      <td>500.0</td>\n",
       "      <td>failed</td>\n",
       "      <td>the-sequel-a-comedy-with-puppets</td>\n",
       "      <td>False</td>\n",
       "      <td>GB</td>\n",
       "      <td>GBP</td>\n",
       "      <td>£</td>\n",
       "      <td>...</td>\n",
       "      <td>6</td>\n",
       "      <td>2014</td>\n",
       "      <td>20</td>\n",
       "      <td>4</td>\n",
       "      <td>7</td>\n",
       "      <td>2014</td>\n",
       "      <td>19</td>\n",
       "      <td>6</td>\n",
       "      <td>4</td>\n",
       "      <td>2014</td>\n",
       "    </tr>\n",
       "    <tr>\n",
       "      <th>3</th>\n",
       "      <td>{\"small\":\"https://ksr-ugc.imgix.net/assets/012...</td>\n",
       "      <td>young blind actors life-changing opportunity!</td>\n",
       "      <td>blind youth los angeles based theatre blind op...</td>\n",
       "      <td>15000.0</td>\n",
       "      <td>failed</td>\n",
       "      <td>young-blind-actors-have-a-life-changing-opport...</td>\n",
       "      <td>False</td>\n",
       "      <td>US</td>\n",
       "      <td>USD</td>\n",
       "      <td>$</td>\n",
       "      <td>...</td>\n",
       "      <td>6</td>\n",
       "      <td>2015</td>\n",
       "      <td>7</td>\n",
       "      <td>3</td>\n",
       "      <td>7</td>\n",
       "      <td>2015</td>\n",
       "      <td>24</td>\n",
       "      <td>3</td>\n",
       "      <td>2</td>\n",
       "      <td>2015</td>\n",
       "    </tr>\n",
       "    <tr>\n",
       "      <th>4</th>\n",
       "      <td>{\"small\":\"https://ksr-ugc.imgix.net/assets/011...</td>\n",
       "      <td>drama school fund</td>\n",
       "      <td>raising money send young actress drama school ...</td>\n",
       "      <td>10600.0</td>\n",
       "      <td>failed</td>\n",
       "      <td>drama-school-fund</td>\n",
       "      <td>False</td>\n",
       "      <td>GB</td>\n",
       "      <td>GBP</td>\n",
       "      <td>£</td>\n",
       "      <td>...</td>\n",
       "      <td>6</td>\n",
       "      <td>2014</td>\n",
       "      <td>9</td>\n",
       "      <td>1</td>\n",
       "      <td>8</td>\n",
       "      <td>2014</td>\n",
       "      <td>19</td>\n",
       "      <td>4</td>\n",
       "      <td>5</td>\n",
       "      <td>2014</td>\n",
       "    </tr>\n",
       "  </tbody>\n",
       "</table>\n",
       "<p>5 rows × 45 columns</p>\n",
       "</div>"
      ],
      "text/plain": [
       "                                               photo  \\\n",
       "0  {\"small\":\"https://ksr-ugc.imgix.net/assets/011...   \n",
       "1  {\"small\":\"https://ksr-ugc.imgix.net/assets/012...   \n",
       "2  {\"small\":\"https://ksr-ugc.imgix.net/assets/011...   \n",
       "3  {\"small\":\"https://ksr-ugc.imgix.net/assets/012...   \n",
       "4  {\"small\":\"https://ksr-ugc.imgix.net/assets/011...   \n",
       "\n",
       "                                                name  \\\n",
       "0  dracula: kisses... help scary little girls fly...   \n",
       "1                                    historial women   \n",
       "2                             sequel: comedy puppets   \n",
       "3      young blind actors life-changing opportunity!   \n",
       "4                                  drama school fund   \n",
       "\n",
       "                                               blurb     goal   state  \\\n",
       "0  dracula: kisses… all-female production dracula...   8000.0  failed   \n",
       "1                    power women contributions world   2000.0  failed   \n",
       "2  play sequel 2 week run camden fringe. it's com...    500.0  failed   \n",
       "3  blind youth los angeles based theatre blind op...  15000.0  failed   \n",
       "4  raising money send young actress drama school ...  10600.0  failed   \n",
       "\n",
       "                                                slug disable_communication  \\\n",
       "0  dracula-the-kisses-help-scary-little-girls-fly...                 False   \n",
       "1                                    historial-women                 False   \n",
       "2                   the-sequel-a-comedy-with-puppets                 False   \n",
       "3  young-blind-actors-have-a-life-changing-opport...                 False   \n",
       "4                                  drama-school-fund                 False   \n",
       "\n",
       "  country currency currency_symbol      ...      launched_at_mo  \\\n",
       "0      GB      GBP               £      ...                   9   \n",
       "1      US      USD               $      ...                  10   \n",
       "2      GB      GBP               £      ...                   6   \n",
       "3      US      USD               $      ...                   6   \n",
       "4      GB      GBP               £      ...                   6   \n",
       "\n",
       "  launched_at_yr deadline_hr deadline_dow deadline_mo deadline_yr  \\\n",
       "0           2014          17            5          10        2014   \n",
       "1           2015          21            6          12        2015   \n",
       "2           2014          20            4           7        2014   \n",
       "3           2015           7            3           7        2015   \n",
       "4           2014           9            1           8        2014   \n",
       "\n",
       "   created_at_hr created_at_dow created_at_mo created_at_yr  \n",
       "0             17              1             8          2014  \n",
       "1             20              6            10          2015  \n",
       "2             19              6             4          2014  \n",
       "3             24              3             2          2015  \n",
       "4             19              4             5          2014  \n",
       "\n",
       "[5 rows x 45 columns]"
      ]
     },
     "execution_count": 118,
     "metadata": {},
     "output_type": "execute_result"
    }
   ],
   "source": [
    "df_all.head()"
   ]
  },
  {
   "cell_type": "code",
   "execution_count": null,
   "metadata": {
    "collapsed": true
   },
   "outputs": [],
   "source": []
  }
 ],
 "metadata": {
  "kernelspec": {
   "display_name": "Python 3",
   "language": "python",
   "name": "python3"
  },
  "language_info": {
   "codemirror_mode": {
    "name": "ipython",
    "version": 3
   },
   "file_extension": ".py",
   "mimetype": "text/x-python",
   "name": "python",
   "nbconvert_exporter": "python",
   "pygments_lexer": "ipython3",
   "version": "3.6.0"
  }
 },
 "nbformat": 4,
 "nbformat_minor": 2
}
