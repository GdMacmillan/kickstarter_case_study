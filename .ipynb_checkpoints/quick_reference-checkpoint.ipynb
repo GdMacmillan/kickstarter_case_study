{
 "cells": [
  {
   "cell_type": "code",
   "execution_count": null,
   "metadata": {
    "collapsed": true
   },
   "outputs": [],
   "source": [
    "# value counts example\n",
    "\n",
    "df['fraud'].value_counts()"
   ]
  },
  {
   "cell_type": "code",
   "execution_count": null,
   "metadata": {
    "collapsed": true
   },
   "outputs": [],
   "source": [
    "# calcute scrape date and start date\n",
    "\n",
    "scrape_date = pd.to_datetime('<scrape date here>', format='%Y-%m-%d')\n",
    "scrape_date = \n",
    "\n",
    "start_date = scrape_date - datetime.timedelta(30,0,0)\n",
    "start_date"
   ]
  },
  {
   "cell_type": "code",
   "execution_count": null,
   "metadata": {
    "collapsed": true
   },
   "outputs": [],
   "source": [
    "# boxplot example\n",
    "\n",
    "df.boxplot(column='channels', by='fraud')\n",
    "plt.show()"
   ]
  },
  {
   "cell_type": "code",
   "execution_count": null,
   "metadata": {
    "collapsed": true
   },
   "outputs": [],
   "source": [
    "# scatter matrix example\n",
    "\n",
    "from pandas.tools.plotting import scatter_matrix\n",
    "\n",
    "scatter_matrix(df[train_cols], alpha=0.2, figsize=(16, 16), diagonal='hist')\n",
    "plt.show()"
   ]
  },
  {
   "cell_type": "code",
   "execution_count": null,
   "metadata": {
    "collapsed": true
   },
   "outputs": [],
   "source": [
    "# cross tab example\n",
    "\n",
    "pd.crosstab(df['channels'], df['fraud'])"
   ]
  },
  {
   "cell_type": "code",
   "execution_count": null,
   "metadata": {
    "collapsed": true
   },
   "outputs": [],
   "source": [
    "# logit model example\n",
    "\n",
    "from statsmodels.discrete.discrete_model import Logit\n",
    "from statsmodels.tools import add_constant\n",
    "\n",
    "train_cols = ['channels', 'body_length', 'gts', 'user_age', 'sale_duration', 'name_length']\n",
    "X = df[train_cols].values\n",
    "X_const = add_constant(X, prepend=True)\n",
    "y = df['fraud'].values\n",
    "logit = Logit(y, X_const)\n",
    "logit_model = logit.fit()\n",
    "print logit_model.summary()"
   ]
  },
  {
   "cell_type": "code",
   "execution_count": null,
   "metadata": {
    "collapsed": true
   },
   "outputs": [],
   "source": [
    "# roc curve example\n",
    "\n",
    "from sklearn.metrics import roc_curve\n",
    "from sklearn.cross_validation import train_test_split\n",
    "\n",
    "X_train, X_test, y_train, y_test = train_test_split(X, y)\n",
    "model = LogisticRegression()\n",
    "model.fit(X_train, y_train)\n",
    "probabilities = model.predict_proba(X_test)[:, 1]\n",
    "fpr, tpr, _ = roc_curve(y_test, probabilities)\n",
    "plt.plot(fpr, tpr)\n",
    "plt.xlabel(\"False Positive Rate (1 - Specificity)\")\n",
    "plt.ylabel(\"True Positive Rate (Sensitivity, Recall)\")\n",
    "plt.title(\"ROC plot of fraud data\")\n",
    "plt.show()"
   ]
  },
  {
   "cell_type": "code",
   "execution_count": null,
   "metadata": {
    "collapsed": true
   },
   "outputs": [],
   "source": [
    "# days between events\n",
    "\n",
    "import datetime\n",
    "\n",
    "def days_between_timestamp(x):\n",
    "    return abs(datetime.datetime.fromtimestamp(x[0]) - (datetime.datetime.fromtimestamp(x[1]))).days\n",
    "\n",
    "df['days_user_event'] = df[['event_created', 'user_created']].apply(days_between_timestamp, 1)\n",
    "df.boxplot(column='days_user_event', by='fraud')\n",
    "plt.show()"
   ]
  },
  {
   "cell_type": "code",
   "execution_count": null,
   "metadata": {
    "collapsed": true
   },
   "outputs": [],
   "source": [
    "# random forest with feature importances\n",
    "\n",
    "from sklearn.ensemble import RandomForestClassifier\n",
    "from sklearn.metrics import mean_squared_error\n",
    "\n",
    "X = df[train_cols].values\n",
    "y = df['fraud'].values\n",
    "X_train, X_test, y_train, y_test = train_test_split(X, y)\n",
    "\n",
    "rf = RandomForestClassifier(n_estimators=100, oob_score=True)\n",
    "rf.fit(X_train, y_train)\n",
    "y_pred = rf.predict(X_test)\n",
    "print 'RMSE: ', np.sqrt(mean_squared_error(y_test, y_pred))\n",
    "print 'OOB_error: ', rf.oob_score_\n",
    "indx = np.arange(len(train_cols))\n",
    "srt = np.argsort(rf.feature_importances_)[::-1]\n",
    "feat_names = [str(s) for s in np.array(train_cols)[srt]]\n",
    "plt.bar(indx, rf.feature_importances_[srt])\n",
    "plt.xticks(indx, feat_names, rotation=45)\n",
    "plt.ylabel(\"Normalized Importances\")\n",
    "plt.title(\"Feature Importances for Rand. For.\")\n",
    "plt.tight_layout()\n",
    "plt.show()"
   ]
  },
  {
   "cell_type": "code",
   "execution_count": null,
   "metadata": {
    "collapsed": true
   },
   "outputs": [],
   "source": [
    "# kfold example\n",
    "\n",
    "kfold = KFold(len(y))\n",
    "\n",
    "accuracies = []\n",
    "precisions = []\n",
    "recalls = []\n",
    "\n",
    "for train_index, test_index in kfold:\n",
    "    model = RandomForestClassifier(n_estimators=100)\n",
    "    model.fit(X[train_index], y[train_index])\n",
    "    y_predict = model.predict(X[test_index])\n",
    "    y_true = y[test_index]\n",
    "    accuracies.append(accuracy_score(y_true, y_predict))\n",
    "    precisions.append(precision_score(y_true, y_predict))\n",
    "    recalls.append(recall_score(y_true, y_predict))\n",
    "\n",
    "print \"accuracy:\", np.average(accuracies)\n",
    "print \"precision:\", np.average(precisions)\n",
    "print \"recall:\", np.average(recalls)"
   ]
  }
 ],
 "metadata": {
  "kernelspec": {
   "display_name": "Python 3",
   "language": "python",
   "name": "python3"
  },
  "language_info": {
   "codemirror_mode": {
    "name": "ipython",
    "version": 3
   },
   "file_extension": ".py",
   "mimetype": "text/x-python",
   "name": "python",
   "nbconvert_exporter": "python",
   "pygments_lexer": "ipython3",
   "version": "3.6.0"
  }
 },
 "nbformat": 4,
 "nbformat_minor": 2
}
